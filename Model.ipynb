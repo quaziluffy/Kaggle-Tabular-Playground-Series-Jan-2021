{
 "cells": [
  {
   "cell_type": "code",
   "execution_count": 1,
   "metadata": {},
   "outputs": [],
   "source": [
    "import numpy as np # linear algebra\n",
    "import pandas as pd # data processing, CSV file I/O (e.g. pd.read_csv)\n",
    "import matplotlib.pyplot as plt\n",
    "import seaborn as sns\n",
    "from scipy import stats\n",
    "from scipy.stats import zscore\n",
    "from sklearn.model_selection import train_test_split\n",
    "from sklearn.metrics import accuracy_score\n",
    "from sklearn import metrics\n",
    "\n",
    "from sklearn.model_selection import GridSearchCV, KFold\n",
    "\n",
    "import lightgbm as lgb\n",
    "from sklearn.model_selection import KFold\n",
    "from sklearn.metrics import mean_squared_error\n",
    "\n",
    "import warnings\n",
    "warnings.filterwarnings(\"ignore\")"
   ]
  },
  {
   "cell_type": "code",
   "execution_count": 2,
   "metadata": {},
   "outputs": [],
   "source": [
    "%matplotlib inline "
   ]
  },
  {
   "cell_type": "code",
   "execution_count": 2,
   "metadata": {},
   "outputs": [
    {
     "name": "stdout",
     "output_type": "stream",
     "text": [
      "Collecting lightgbm\n",
      "  Downloading lightgbm-3.1.1-py2.py3-none-win_amd64.whl (754 kB)\n",
      "Requirement already satisfied: scikit-learn!=0.22.0 in c:\\users\\abysm\\anaconda3\\lib\\site-packages (from lightgbm) (0.23.2)\n",
      "Requirement already satisfied: wheel in c:\\users\\abysm\\anaconda3\\lib\\site-packages (from lightgbm) (0.36.2)\n",
      "Requirement already satisfied: scipy in c:\\users\\abysm\\anaconda3\\lib\\site-packages (from lightgbm) (1.5.2)\n",
      "Requirement already satisfied: numpy in c:\\users\\abysm\\anaconda3\\lib\\site-packages (from lightgbm) (1.19.2)\n",
      "Requirement already satisfied: threadpoolctl>=2.0.0 in c:\\users\\abysm\\anaconda3\\lib\\site-packages (from scikit-learn!=0.22.0->lightgbm) (2.1.0)\n",
      "Requirement already satisfied: joblib>=0.11 in c:\\users\\abysm\\anaconda3\\lib\\site-packages (from scikit-learn!=0.22.0->lightgbm) (1.0.0)\n",
      "Installing collected packages: lightgbm\n",
      "Successfully installed lightgbm-3.1.1\n"
     ]
    },
    {
     "name": "stderr",
     "output_type": "stream",
     "text": [
      "WARNING: Error parsing requirements for path-py: [Errno 2] No such file or directory: 'c:\\\\users\\\\abysm\\\\anaconda3\\\\lib\\\\site-packages\\\\path.py-12.0.1.dist-info\\\\METADATA'\n",
      "WARNING: Error parsing requirements for mock: [Errno 2] No such file or directory: 'c:\\\\users\\\\abysm\\\\anaconda3\\\\lib\\\\site-packages\\\\mock-3.0.5.dist-info\\\\METADATA'\n"
     ]
    }
   ],
   "source": [
    "!pip install lightgbm"
   ]
  },
  {
   "cell_type": "code",
   "execution_count": 3,
   "metadata": {},
   "outputs": [],
   "source": [
    "# Configurations\n",
    "N_SPLITS = 5\n",
    "SEED = 42\n",
    "\n",
    "train_df = pd.read_csv(r'C:\\Users\\abysm\\Documents\\Kaggle\\02 Tabular Playground Series - Jan 2021\\train.csv')\n",
    "#print('Train data dimension: ', train_df.shape)\n",
    "\n",
    "test_df = pd.read_csv(r'C:\\Users\\abysm\\Documents\\Kaggle\\02 Tabular Playground Series - Jan 2021\\test.csv')\n",
    "#print('Test data dimension: ', test_df.shape)\n",
    "#display(test_df.head())\n",
    "\n",
    "sample_submission = pd.read_csv(r'C:\\Users\\abysm\\Documents\\Kaggle\\02 Tabular Playground Series - Jan 2021\\sample_submission.csv')\n",
    "#print('Sample submission dimension: ', sample_submission.shape)\n",
    "#display(sample_submission.head())"
   ]
  },
  {
   "cell_type": "code",
   "execution_count": 14,
   "metadata": {},
   "outputs": [
    {
     "name": "stdout",
     "output_type": "stream",
     "text": [
      "Missing data in the train data: False\n",
      "Missing data in the test data: False\n"
     ]
    }
   ],
   "source": [
    "print(f\"Missing data in the train data: {train_df.isna().sum(axis=0).any()}\")\n",
    "print(f\"Missing data in the test data: {test_df.isna().sum(axis=0).any()}\")"
   ]
  },
  {
   "cell_type": "code",
   "execution_count": 4,
   "metadata": {},
   "outputs": [
    {
     "data": {
      "text/html": [
       "<div>\n",
       "<style scoped>\n",
       "    .dataframe tbody tr th:only-of-type {\n",
       "        vertical-align: middle;\n",
       "    }\n",
       "\n",
       "    .dataframe tbody tr th {\n",
       "        vertical-align: top;\n",
       "    }\n",
       "\n",
       "    .dataframe thead th {\n",
       "        text-align: right;\n",
       "    }\n",
       "</style>\n",
       "<table border=\"1\" class=\"dataframe\">\n",
       "  <thead>\n",
       "    <tr style=\"text-align: right;\">\n",
       "      <th></th>\n",
       "      <th>id</th>\n",
       "      <th>cont1</th>\n",
       "      <th>cont2</th>\n",
       "      <th>cont3</th>\n",
       "      <th>cont4</th>\n",
       "      <th>cont5</th>\n",
       "      <th>cont6</th>\n",
       "      <th>cont7</th>\n",
       "      <th>cont8</th>\n",
       "      <th>cont9</th>\n",
       "      <th>cont10</th>\n",
       "      <th>cont11</th>\n",
       "      <th>cont12</th>\n",
       "      <th>cont13</th>\n",
       "      <th>cont14</th>\n",
       "      <th>target</th>\n",
       "    </tr>\n",
       "  </thead>\n",
       "  <tbody>\n",
       "    <tr>\n",
       "      <th>0</th>\n",
       "      <td>1</td>\n",
       "      <td>0.670390</td>\n",
       "      <td>0.811300</td>\n",
       "      <td>0.643968</td>\n",
       "      <td>0.291791</td>\n",
       "      <td>0.284117</td>\n",
       "      <td>0.855953</td>\n",
       "      <td>0.890700</td>\n",
       "      <td>0.285542</td>\n",
       "      <td>0.558245</td>\n",
       "      <td>0.779418</td>\n",
       "      <td>0.921832</td>\n",
       "      <td>0.866772</td>\n",
       "      <td>0.878733</td>\n",
       "      <td>0.305411</td>\n",
       "      <td>7.243043</td>\n",
       "    </tr>\n",
       "    <tr>\n",
       "      <th>1</th>\n",
       "      <td>3</td>\n",
       "      <td>0.388053</td>\n",
       "      <td>0.621104</td>\n",
       "      <td>0.686102</td>\n",
       "      <td>0.501149</td>\n",
       "      <td>0.643790</td>\n",
       "      <td>0.449805</td>\n",
       "      <td>0.510824</td>\n",
       "      <td>0.580748</td>\n",
       "      <td>0.418335</td>\n",
       "      <td>0.432632</td>\n",
       "      <td>0.439872</td>\n",
       "      <td>0.434971</td>\n",
       "      <td>0.369957</td>\n",
       "      <td>0.369484</td>\n",
       "      <td>8.203331</td>\n",
       "    </tr>\n",
       "    <tr>\n",
       "      <th>2</th>\n",
       "      <td>4</td>\n",
       "      <td>0.834950</td>\n",
       "      <td>0.227436</td>\n",
       "      <td>0.301584</td>\n",
       "      <td>0.293408</td>\n",
       "      <td>0.606839</td>\n",
       "      <td>0.829175</td>\n",
       "      <td>0.506143</td>\n",
       "      <td>0.558771</td>\n",
       "      <td>0.587603</td>\n",
       "      <td>0.823312</td>\n",
       "      <td>0.567007</td>\n",
       "      <td>0.677708</td>\n",
       "      <td>0.882938</td>\n",
       "      <td>0.303047</td>\n",
       "      <td>7.776091</td>\n",
       "    </tr>\n",
       "    <tr>\n",
       "      <th>3</th>\n",
       "      <td>5</td>\n",
       "      <td>0.820708</td>\n",
       "      <td>0.160155</td>\n",
       "      <td>0.546887</td>\n",
       "      <td>0.726104</td>\n",
       "      <td>0.282444</td>\n",
       "      <td>0.785108</td>\n",
       "      <td>0.752758</td>\n",
       "      <td>0.823267</td>\n",
       "      <td>0.574466</td>\n",
       "      <td>0.580843</td>\n",
       "      <td>0.769594</td>\n",
       "      <td>0.818143</td>\n",
       "      <td>0.914281</td>\n",
       "      <td>0.279528</td>\n",
       "      <td>6.957716</td>\n",
       "    </tr>\n",
       "    <tr>\n",
       "      <th>4</th>\n",
       "      <td>8</td>\n",
       "      <td>0.935278</td>\n",
       "      <td>0.421235</td>\n",
       "      <td>0.303801</td>\n",
       "      <td>0.880214</td>\n",
       "      <td>0.665610</td>\n",
       "      <td>0.830131</td>\n",
       "      <td>0.487113</td>\n",
       "      <td>0.604157</td>\n",
       "      <td>0.874658</td>\n",
       "      <td>0.863427</td>\n",
       "      <td>0.983575</td>\n",
       "      <td>0.900464</td>\n",
       "      <td>0.935918</td>\n",
       "      <td>0.435772</td>\n",
       "      <td>7.951046</td>\n",
       "    </tr>\n",
       "  </tbody>\n",
       "</table>\n",
       "</div>"
      ],
      "text/plain": [
       "   id     cont1     cont2     cont3     cont4     cont5     cont6     cont7  \\\n",
       "0   1  0.670390  0.811300  0.643968  0.291791  0.284117  0.855953  0.890700   \n",
       "1   3  0.388053  0.621104  0.686102  0.501149  0.643790  0.449805  0.510824   \n",
       "2   4  0.834950  0.227436  0.301584  0.293408  0.606839  0.829175  0.506143   \n",
       "3   5  0.820708  0.160155  0.546887  0.726104  0.282444  0.785108  0.752758   \n",
       "4   8  0.935278  0.421235  0.303801  0.880214  0.665610  0.830131  0.487113   \n",
       "\n",
       "      cont8     cont9    cont10    cont11    cont12    cont13    cont14  \\\n",
       "0  0.285542  0.558245  0.779418  0.921832  0.866772  0.878733  0.305411   \n",
       "1  0.580748  0.418335  0.432632  0.439872  0.434971  0.369957  0.369484   \n",
       "2  0.558771  0.587603  0.823312  0.567007  0.677708  0.882938  0.303047   \n",
       "3  0.823267  0.574466  0.580843  0.769594  0.818143  0.914281  0.279528   \n",
       "4  0.604157  0.874658  0.863427  0.983575  0.900464  0.935918  0.435772   \n",
       "\n",
       "     target  \n",
       "0  7.243043  \n",
       "1  8.203331  \n",
       "2  7.776091  \n",
       "3  6.957716  \n",
       "4  7.951046  "
      ]
     },
     "metadata": {},
     "output_type": "display_data"
    }
   ],
   "source": [
    "#display(test_df.head())\n",
    "display(train_df.head())"
   ]
  },
  {
   "cell_type": "code",
   "execution_count": 21,
   "metadata": {},
   "outputs": [
    {
     "data": {
      "image/png": "[encoded data removed]",
      "text/plain": [
       "<Figure size 1296x288 with 3 Axes>"
      ]
     },
     "metadata": {
      "needs_background": "light"
     },
     "output_type": "display_data"
    }
   ],
   "source": [
    "#display(train_df.target.describe())\n",
    "f, ax = plt.subplots(nrows=1, ncols=3, figsize=(18, 4))\n",
    "sns.distplot(train_df.target, ax=ax[0])\n",
    "sns.boxplot(train_df.target, ax=ax[1])\n",
    "stats.probplot(train_df['target'], plot=ax[2])\n",
    "plt.show()"
   ]
  },
  {
   "cell_type": "code",
   "execution_count": 4,
   "metadata": {},
   "outputs": [],
   "source": [
    "# Drop one outlier\n",
    "train_df = train_df[train_df.target != 0].reset_index(drop=True)"
   ]
  },
  {
   "cell_type": "markdown",
   "metadata": {},
   "source": [
    "### Cont features"
   ]
  },
  {
   "cell_type": "code",
   "execution_count": 31,
   "metadata": {},
   "outputs": [
    {
     "data": {
      "image/png": "[encoded data removed]",
      "text/plain": [
       "<Figure size 864x864 with 14 Axes>"
      ]
     },
     "metadata": {
      "needs_background": "light"
     },
     "output_type": "display_data"
    }
   ],
   "source": [
    "f, ax = plt.subplots(nrows=4, ncols=4, figsize=(12, 12))\n",
    "#f.suptitle('Distribution of Features', fontsize=16)\n",
    "sns.distplot(train_df['cont1'], ax=ax[0, 0])\n",
    "sns.distplot(train_df['cont2'], ax=ax[0, 1])\n",
    "sns.distplot(train_df['cont3'], ax=ax[0, 2])\n",
    "sns.distplot(train_df['cont4'], ax=ax[0, 3])\n",
    "\n",
    "sns.distplot(train_df['cont5'], ax=ax[1, 0])\n",
    "sns.distplot(train_df['cont6'], ax=ax[1, 1])\n",
    "sns.distplot(train_df['cont7'], ax=ax[1, 2])\n",
    "sns.distplot(train_df['cont8'], ax=ax[1, 3])\n",
    "\n",
    "sns.distplot(train_df['cont9'], ax=ax[2, 0])\n",
    "sns.distplot(train_df['cont10'], ax=ax[2, 1])\n",
    "sns.distplot(train_df['cont11'], ax=ax[2, 2])\n",
    "sns.distplot(train_df['cont12'], ax=ax[2, 3])\n",
    "\n",
    "sns.distplot(train_df['cont13'], ax=ax[3, 0])\n",
    "sns.distplot(train_df['cont14'], ax=ax[3, 1])\n",
    "f.delaxes(ax[3, 2])\n",
    "f.delaxes(ax[3, 3])\n",
    "plt.tight_layout()\n",
    "plt.show()"
   ]
  },
  {
   "cell_type": "code",
   "execution_count": 34,
   "metadata": {},
   "outputs": [
    {
     "data": {
      "text/plain": [
       "<AxesSubplot:>"
      ]
     },
     "execution_count": 34,
     "metadata": {},
     "output_type": "execute_result"
    },
    {
     "data": {
      "image/png": "[encoded data removed]",
      "text/plain": [
       "<Figure size 792x648 with 2 Axes>"
      ]
     },
     "metadata": {},
     "output_type": "display_data"
    }
   ],
   "source": [
    "train_df_corr = train_df.drop(['id'], axis = 1)\n",
    "\n",
    "sns.set_theme(style=\"white\")\n",
    "\n",
    "# Generate a large random dataset\n",
    "#rs = np.random.RandomState(33)\n",
    "#d = pd.DataFrame(data=rs.normal(size=(100, 26)), columns=list(ascii_letters[26:]))\n",
    "\n",
    "# Compute the correlation matrix\n",
    "corr = train_df_corr.corr()\n",
    "\n",
    "# Generate a mask for the upper triangle\n",
    "mask = np.triu(np.ones_like(corr, dtype=bool))\n",
    "\n",
    "# Set up the matplotlib figure\n",
    "f, ax = plt.subplots(figsize=(11, 9))\n",
    "\n",
    "# Generate a custom diverging colormap\n",
    "cmap = sns.diverging_palette(230, 20, as_cmap=True)\n",
    "\n",
    "# Draw the heatmap with the mask and correct aspect ratio\n",
    "sns.heatmap(corr, mask=mask, cmap=cmap, vmax=0.9, center=0,\n",
    "            square=True, linewidths=.8, cbar_kws={\"shrink\": .5})"
   ]
  },
  {
   "cell_type": "code",
   "execution_count": 33,
   "metadata": {},
   "outputs": [
    {
     "data": {
      "image/png": "[encoded data removed]",
      "text/plain": [
       "<Figure size 864x720 with 2 Axes>"
      ]
     },
     "metadata": {},
     "output_type": "display_data"
    }
   ],
   "source": [
    "f, ax = plt.subplots(nrows=1, ncols=1, figsize=(12, 10))\n",
    "ax.set_title(\"Correlation Matrix\", fontsize=16)\n",
    "sns.heatmap(train_df[train_df.columns[train_df.columns != 'id']].corr(), vmin=-1, vmax=1, cmap='coolwarm', annot=True)\n",
    "\n",
    "for tick in ax.xaxis.get_major_ticks():\n",
    "    tick.label.set_fontsize(14) \n",
    "    tick.label.set_rotation(90) \n",
    "for tick in ax.yaxis.get_major_ticks():\n",
    "    tick.label.set_fontsize(14)\n",
    "    tick.label.set_rotation(0) \n",
    "plt.show()"
   ]
  },
  {
   "cell_type": "markdown",
   "metadata": {},
   "source": [
    "### Train Test Split"
   ]
  },
  {
   "cell_type": "code",
   "execution_count": 4,
   "metadata": {},
   "outputs": [],
   "source": [
    "X = train_df.drop(['id','target'], axis = 1)"
   ]
  },
  {
   "cell_type": "code",
   "execution_count": 5,
   "metadata": {},
   "outputs": [],
   "source": [
    "y = train_df[[\"target\"]]"
   ]
  },
  {
   "cell_type": "code",
   "execution_count": 8,
   "metadata": {},
   "outputs": [],
   "source": [
    "X = X.apply(zscore)  # convert all attributes to Z scale "
   ]
  },
  {
   "cell_type": "code",
   "execution_count": 6,
   "metadata": {},
   "outputs": [],
   "source": [
    "test_size = 0.30\n",
    "seed = 7\n",
    "X_train, X_test, y_train, y_test = train_test_split(X, y, test_size=test_size, random_state=seed)"
   ]
  },
  {
   "cell_type": "markdown",
   "metadata": {},
   "source": [
    "### KNN Regression"
   ]
  },
  {
   "cell_type": "code",
   "execution_count": 5,
   "metadata": {},
   "outputs": [],
   "source": [
    "from sklearn.neighbors import KNeighborsRegressor"
   ]
  },
  {
   "cell_type": "code",
   "execution_count": 10,
   "metadata": {},
   "outputs": [
    {
     "data": {
      "text/plain": [
       "KNeighborsRegressor()"
      ]
     },
     "execution_count": 10,
     "metadata": {},
     "output_type": "execute_result"
    }
   ],
   "source": [
    "from sklearn.neighbors import KNeighborsRegressor\n",
    "\n",
    "knn_reg = KNeighborsRegressor(n_neighbors=5)\n",
    "knn_reg.fit(X_train, y_train)"
   ]
  },
  {
   "cell_type": "code",
   "execution_count": 11,
   "metadata": {},
   "outputs": [],
   "source": [
    "predicted_labels = knn_reg.predict(X_test)"
   ]
  },
  {
   "cell_type": "code",
   "execution_count": 12,
   "metadata": {},
   "outputs": [
    {
     "data": {
      "text/plain": [
       "-0.10786469231354401"
      ]
     },
     "execution_count": 12,
     "metadata": {},
     "output_type": "execute_result"
    }
   ],
   "source": [
    "knn_reg.score(X_test, y_test)"
   ]
  },
  {
   "cell_type": "code",
   "execution_count": 13,
   "metadata": {},
   "outputs": [
    {
     "data": {
      "text/plain": [
       "0.771727177018728"
      ]
     },
     "execution_count": 13,
     "metadata": {},
     "output_type": "execute_result"
    }
   ],
   "source": [
    "score = np.sqrt(mean_squared_error(y_test, predicted_labels))\n",
    "score"
   ]
  },
  {
   "cell_type": "code",
   "execution_count": 7,
   "metadata": {},
   "outputs": [],
   "source": [
    "test_df2 = test_df.drop(['id'], axis = 1)"
   ]
  },
  {
   "cell_type": "code",
   "execution_count": 18,
   "metadata": {},
   "outputs": [],
   "source": [
    "pred_test = knn_reg.predict(test_df)"
   ]
  },
  {
   "cell_type": "markdown",
   "metadata": {},
   "source": [
    "### Submission"
   ]
  },
  {
   "cell_type": "code",
   "execution_count": 8,
   "metadata": {},
   "outputs": [
    {
     "ename": "NameError",
     "evalue": "name 'pred_test' is not defined",
     "output_type": "error",
     "traceback": [
      "\u001b[1;31m---------------------------------------------------------------------------\u001b[0m",
      "\u001b[1;31mNameError\u001b[0m                                 Traceback (most recent call last)",
      "\u001b[1;32m<ipython-input-8-206d9e4c507f>\u001b[0m in \u001b[0;36m<module>\u001b[1;34m\u001b[0m\n\u001b[0;32m      1\u001b[0m \u001b[0msubmission\u001b[0m \u001b[1;33m=\u001b[0m \u001b[0mtest_df\u001b[0m\u001b[1;33m[\u001b[0m\u001b[1;33m[\u001b[0m\u001b[1;34m'id'\u001b[0m\u001b[1;33m]\u001b[0m\u001b[1;33m]\u001b[0m\u001b[1;33m.\u001b[0m\u001b[0mcopy\u001b[0m\u001b[1;33m(\u001b[0m\u001b[1;33m)\u001b[0m\u001b[1;33m\u001b[0m\u001b[1;33m\u001b[0m\u001b[0m\n\u001b[1;32m----> 2\u001b[1;33m \u001b[0msubmission\u001b[0m\u001b[1;33m[\u001b[0m\u001b[1;34m'target'\u001b[0m\u001b[1;33m]\u001b[0m \u001b[1;33m=\u001b[0m \u001b[0mpred_test\u001b[0m\u001b[1;33m\u001b[0m\u001b[1;33m\u001b[0m\u001b[0m\n\u001b[0m\u001b[0;32m      3\u001b[0m \u001b[1;33m\u001b[0m\u001b[0m\n\u001b[0;32m      4\u001b[0m \u001b[0msubmission\u001b[0m\u001b[1;33m.\u001b[0m\u001b[0mto_csv\u001b[0m\u001b[1;33m(\u001b[0m\u001b[1;34m\"submission.csv\"\u001b[0m\u001b[1;33m,\u001b[0m \u001b[0mindex\u001b[0m\u001b[1;33m=\u001b[0m\u001b[1;32mFalse\u001b[0m\u001b[1;33m)\u001b[0m\u001b[1;33m\u001b[0m\u001b[1;33m\u001b[0m\u001b[0m\n",
      "\u001b[1;31mNameError\u001b[0m: name 'pred_test' is not defined"
     ]
    }
   ],
   "source": [
    "submission = test_df[['id']].copy()\n",
    "submission['target'] = pred_test\n",
    "\n",
    "submission.to_csv(\"submission.csv\", index=False)"
   ]
  },
  {
   "cell_type": "code",
   "execution_count": 45,
   "metadata": {},
   "outputs": [
    {
     "data": {
      "text/plain": [
       "<bound method Series.mean of 0         7.243043\n",
       "1         8.203331\n",
       "2         7.776091\n",
       "3         6.957716\n",
       "4         7.951046\n",
       "            ...   \n",
       "299995    7.385215\n",
       "299996    7.242617\n",
       "299997    9.592487\n",
       "299998    8.207951\n",
       "299999    8.890285\n",
       "Name: target, Length: 300000, dtype: float64>"
      ]
     },
     "execution_count": 45,
     "metadata": {},
     "output_type": "execute_result"
    }
   ],
   "source": [
    "train_df['target'].mean"
   ]
  },
  {
   "cell_type": "markdown",
   "metadata": {},
   "source": [
    "### Linear Regression"
   ]
  },
  {
   "cell_type": "code",
   "execution_count": 9,
   "metadata": {},
   "outputs": [],
   "source": [
    "from sklearn.linear_model import LinearRegression\n",
    "\n",
    "from sklearn.linear_model import Ridge"
   ]
  },
  {
   "cell_type": "code",
   "execution_count": 10,
   "metadata": {},
   "outputs": [
    {
     "data": {
      "text/plain": [
       "LinearRegression()"
      ]
     },
     "execution_count": 10,
     "metadata": {},
     "output_type": "execute_result"
    }
   ],
   "source": [
    "linreg_model1 = LinearRegression()\n",
    "linreg_model1.fit(X_train, y_train)"
   ]
  },
  {
   "cell_type": "code",
   "execution_count": 11,
   "metadata": {},
   "outputs": [
    {
     "data": {
      "text/plain": [
       "0.0195059377381821"
      ]
     },
     "execution_count": 11,
     "metadata": {},
     "output_type": "execute_result"
    }
   ],
   "source": [
    "linreg_model1.score(X_train, y_train)"
   ]
  },
  {
   "cell_type": "code",
   "execution_count": 12,
   "metadata": {},
   "outputs": [
    {
     "data": {
      "text/plain": [
       "0.7273463512770206"
      ]
     },
     "execution_count": 12,
     "metadata": {},
     "output_type": "execute_result"
    }
   ],
   "source": [
    "predicted_labels = linreg_model1.predict(X_test)\n",
    "linreg_model1.score(X_test, y_test)\n",
    "score = np.sqrt(mean_squared_error(y_test, predicted_labels))\n",
    "score"
   ]
  },
  {
   "cell_type": "code",
   "execution_count": 14,
   "metadata": {},
   "outputs": [],
   "source": [
    "#Predict test data \n",
    "pred_test = linreg_model1.predict(test_df2)"
   ]
  },
  {
   "cell_type": "code",
   "execution_count": 30,
   "metadata": {},
   "outputs": [],
   "source": [
    "submission = test_df[['id']].copy()\n",
    "submission['target'] = pred_test\n",
    "\n",
    "submission.to_csv(\"submission.csv\", index=False)"
   ]
  },
  {
   "cell_type": "markdown",
   "metadata": {},
   "source": [
    "#### Regularized model"
   ]
  },
  {
   "cell_type": "code",
   "execution_count": 21,
   "metadata": {},
   "outputs": [],
   "source": [
    "ridge01 = Ridge(alpha=5.0).fit(X_train, y_train)"
   ]
  },
  {
   "cell_type": "code",
   "execution_count": 20,
   "metadata": {},
   "outputs": [
    {
     "data": {
      "text/plain": [
       "0.7273460873487434"
      ]
     },
     "execution_count": 20,
     "metadata": {},
     "output_type": "execute_result"
    }
   ],
   "source": [
    "predicted_labels = ridge01.predict(X_test)\n",
    "ridge01.score(X_test, y_test)\n",
    "score = np.sqrt(mean_squared_error(y_test, predicted_labels))\n",
    "score"
   ]
  },
  {
   "cell_type": "code",
   "execution_count": 35,
   "metadata": {},
   "outputs": [],
   "source": [
    "#Predict test data \n",
    "pred_test = ridge01.predict(test_df)"
   ]
  },
  {
   "cell_type": "markdown",
   "metadata": {},
   "source": [
    "### Decision Tree"
   ]
  },
  {
   "cell_type": "code",
   "execution_count": 22,
   "metadata": {},
   "outputs": [],
   "source": [
    "from sklearn.tree import DecisionTreeRegressor"
   ]
  },
  {
   "cell_type": "code",
   "execution_count": 66,
   "metadata": {},
   "outputs": [
    {
     "data": {
      "text/plain": [
       "0.7225993137256639"
      ]
     },
     "execution_count": 66,
     "metadata": {},
     "output_type": "execute_result"
    }
   ],
   "source": [
    "treeReg = DecisionTreeRegressor(max_depth=6).fit(X_train, y_train)\n",
    "predicted_labels = treeReg.predict(X_test)\n",
    "\n",
    "treeReg.score(X_test, y_test)\n",
    "score = np.sqrt(mean_squared_error(y_test, predicted_labels))\n",
    "score"
   ]
  },
  {
   "cell_type": "code",
   "execution_count": 67,
   "metadata": {},
   "outputs": [],
   "source": [
    "#Predict test data \n",
    "pred_test = treeReg.predict(test_df2)"
   ]
  },
  {
   "cell_type": "code",
   "execution_count": 88,
   "metadata": {},
   "outputs": [],
   "source": [
    "submission = test_df[['id']].copy()\n",
    "submission['target'] = pred_test\n",
    "\n",
    "submission.to_csv(\"submission.csv\", index=False)"
   ]
  },
  {
   "cell_type": "code",
   "execution_count": 83,
   "metadata": {},
   "outputs": [
    {
     "name": "stdout",
     "output_type": "stream",
     "text": [
      "Fitting 5 folds for each of 60 candidates, totalling 300 fits\n",
      "[CV] max_depth=5, max_leaf_nodes=45, min_samples_leaf=1 ..............\n"
     ]
    },
    {
     "name": "stderr",
     "output_type": "stream",
     "text": [
      "[Parallel(n_jobs=1)]: Using backend SequentialBackend with 1 concurrent workers.\n"
     ]
    },
    {
     "name": "stdout",
     "output_type": "stream",
     "text": [
      "[CV]  max_depth=5, max_leaf_nodes=45, min_samples_leaf=1, score=0.019, total=   0.7s\n",
      "[CV] max_depth=5, max_leaf_nodes=45, min_samples_leaf=1 ..............\n"
     ]
    },
    {
     "name": "stderr",
     "output_type": "stream",
     "text": [
      "[Parallel(n_jobs=1)]: Done   1 out of   1 | elapsed:    0.6s remaining:    0.0s\n"
     ]
    },
    {
     "name": "stdout",
     "output_type": "stream",
     "text": [
      "[CV]  max_depth=5, max_leaf_nodes=45, min_samples_leaf=1, score=0.025, total=   0.8s\n",
      "[CV] max_depth=5, max_leaf_nodes=45, min_samples_leaf=1 ..............\n"
     ]
    },
    {
     "name": "stderr",
     "output_type": "stream",
     "text": [
      "[Parallel(n_jobs=1)]: Done   2 out of   2 | elapsed:    1.4s remaining:    0.0s\n"
     ]
    },
    {
     "name": "stdout",
     "output_type": "stream",
     "text": [
      "[CV]  max_depth=5, max_leaf_nodes=45, min_samples_leaf=1, score=0.026, total=   0.7s\n",
      "[CV] max_depth=5, max_leaf_nodes=45, min_samples_leaf=1 ..............\n"
     ]
    },
    {
     "name": "stderr",
     "output_type": "stream",
     "text": [
      "[Parallel(n_jobs=1)]: Done   3 out of   3 | elapsed:    2.2s remaining:    0.0s\n"
     ]
    },
    {
     "name": "stdout",
     "output_type": "stream",
     "text": [
      "[CV]  max_depth=5, max_leaf_nodes=45, min_samples_leaf=1, score=0.025, total=   0.7s\n",
      "[CV] max_depth=5, max_leaf_nodes=45, min_samples_leaf=1 ..............\n"
     ]
    },
    {
     "name": "stderr",
     "output_type": "stream",
     "text": [
      "[Parallel(n_jobs=1)]: Done   4 out of   4 | elapsed:    2.8s remaining:    0.0s\n"
     ]
    },
    {
     "name": "stdout",
     "output_type": "stream",
     "text": [
      "[CV]  max_depth=5, max_leaf_nodes=45, min_samples_leaf=1, score=0.020, total=   0.7s\n",
      "[CV] max_depth=5, max_leaf_nodes=45, min_samples_leaf=3 ..............\n"
     ]
    },
    {
     "name": "stderr",
     "output_type": "stream",
     "text": [
      "[Parallel(n_jobs=1)]: Done   5 out of   5 | elapsed:    3.5s remaining:    0.0s\n"
     ]
    },
    {
     "name": "stdout",
     "output_type": "stream",
     "text": [
      "[CV]  max_depth=5, max_leaf_nodes=45, min_samples_leaf=3, score=0.019, total=   0.7s\n",
      "[CV] max_depth=5, max_leaf_nodes=45, min_samples_leaf=3 ..............\n"
     ]
    },
    {
     "name": "stderr",
     "output_type": "stream",
     "text": [
      "[Parallel(n_jobs=1)]: Done   6 out of   6 | elapsed:    4.2s remaining:    0.0s\n"
     ]
    },
    {
     "name": "stdout",
     "output_type": "stream",
     "text": [
      "[CV]  max_depth=5, max_leaf_nodes=45, min_samples_leaf=3, score=0.026, total=   0.7s\n",
      "[CV] max_depth=5, max_leaf_nodes=45, min_samples_leaf=3 ..............\n"
     ]
    },
    {
     "name": "stderr",
     "output_type": "stream",
     "text": [
      "[Parallel(n_jobs=1)]: Done   7 out of   7 | elapsed:    4.9s remaining:    0.0s\n"
     ]
    },
    {
     "name": "stdout",
     "output_type": "stream",
     "text": [
      "[CV]  max_depth=5, max_leaf_nodes=45, min_samples_leaf=3, score=0.026, total=   0.7s\n",
      "[CV] max_depth=5, max_leaf_nodes=45, min_samples_leaf=3 ..............\n"
     ]
    },
    {
     "name": "stderr",
     "output_type": "stream",
     "text": [
      "[Parallel(n_jobs=1)]: Done   8 out of   8 | elapsed:    5.6s remaining:    0.0s\n"
     ]
    },
    {
     "name": "stdout",
     "output_type": "stream",
     "text": [
      "[CV]  max_depth=5, max_leaf_nodes=45, min_samples_leaf=3, score=0.025, total=   0.7s\n",
      "[CV] max_depth=5, max_leaf_nodes=45, min_samples_leaf=3 ..............\n"
     ]
    },
    {
     "name": "stderr",
     "output_type": "stream",
     "text": [
      "[Parallel(n_jobs=1)]: Done   9 out of   9 | elapsed:    6.3s remaining:    0.0s\n"
     ]
    },
    {
     "name": "stdout",
     "output_type": "stream",
     "text": [
      "[CV]  max_depth=5, max_leaf_nodes=45, min_samples_leaf=3, score=0.019, total=   0.8s\n",
      "[CV] max_depth=5, max_leaf_nodes=45, min_samples_leaf=5 ..............\n",
      "[CV]  max_depth=5, max_leaf_nodes=45, min_samples_leaf=5, score=0.019, total=   0.8s\n",
      "[CV] max_depth=5, max_leaf_nodes=45, min_samples_leaf=5 ..............\n",
      "[CV]  max_depth=5, max_leaf_nodes=45, min_samples_leaf=5, score=0.026, total=   0.8s\n",
      "[CV] max_depth=5, max_leaf_nodes=45, min_samples_leaf=5 ..............\n",
      "[CV]  max_depth=5, max_leaf_nodes=45, min_samples_leaf=5, score=0.026, total=   0.8s\n",
      "[CV] max_depth=5, max_leaf_nodes=45, min_samples_leaf=5 ..............\n",
      "[CV]  max_depth=5, max_leaf_nodes=45, min_samples_leaf=5, score=0.025, total=   0.8s\n",
      "[CV] max_depth=5, max_leaf_nodes=45, min_samples_leaf=5 ..............\n",
      "[CV]  max_depth=5, max_leaf_nodes=45, min_samples_leaf=5, score=0.019, total=   0.8s\n",
      "[CV] max_depth=5, max_leaf_nodes=45, min_samples_leaf=7 ..............\n",
      "[CV]  max_depth=5, max_leaf_nodes=45, min_samples_leaf=7, score=0.020, total=   0.8s\n",
      "[CV] max_depth=5, max_leaf_nodes=45, min_samples_leaf=7 ..............\n",
      "[CV]  max_depth=5, max_leaf_nodes=45, min_samples_leaf=7, score=0.026, total=   0.8s\n",
      "[CV] max_depth=5, max_leaf_nodes=45, min_samples_leaf=7 ..............\n",
      "[CV]  max_depth=5, max_leaf_nodes=45, min_samples_leaf=7, score=0.026, total=   0.8s\n",
      "[CV] max_depth=5, max_leaf_nodes=45, min_samples_leaf=7 ..............\n",
      "[CV]  max_depth=5, max_leaf_nodes=45, min_samples_leaf=7, score=0.025, total=   0.8s\n",
      "[CV] max_depth=5, max_leaf_nodes=45, min_samples_leaf=7 ..............\n",
      "[CV]  max_depth=5, max_leaf_nodes=45, min_samples_leaf=7, score=0.019, total=   0.7s\n",
      "[CV] max_depth=5, max_leaf_nodes=50, min_samples_leaf=1 ..............\n",
      "[CV]  max_depth=5, max_leaf_nodes=50, min_samples_leaf=1, score=0.019, total=   0.7s\n",
      "[CV] max_depth=5, max_leaf_nodes=50, min_samples_leaf=1 ..............\n",
      "[CV]  max_depth=5, max_leaf_nodes=50, min_samples_leaf=1, score=0.025, total=   0.8s\n",
      "[CV] max_depth=5, max_leaf_nodes=50, min_samples_leaf=1 ..............\n",
      "[CV]  max_depth=5, max_leaf_nodes=50, min_samples_leaf=1, score=0.026, total=   0.7s\n",
      "[CV] max_depth=5, max_leaf_nodes=50, min_samples_leaf=1 ..............\n",
      "[CV]  max_depth=5, max_leaf_nodes=50, min_samples_leaf=1, score=0.025, total=   0.7s\n",
      "[CV] max_depth=5, max_leaf_nodes=50, min_samples_leaf=1 ..............\n",
      "[CV]  max_depth=5, max_leaf_nodes=50, min_samples_leaf=1, score=0.020, total=   0.7s\n",
      "[CV] max_depth=5, max_leaf_nodes=50, min_samples_leaf=3 ..............\n",
      "[CV]  max_depth=5, max_leaf_nodes=50, min_samples_leaf=3, score=0.019, total=   1.3s\n",
      "[CV] max_depth=5, max_leaf_nodes=50, min_samples_leaf=3 ..............\n",
      "[CV]  max_depth=5, max_leaf_nodes=50, min_samples_leaf=3, score=0.026, total=   1.2s\n",
      "[CV] max_depth=5, max_leaf_nodes=50, min_samples_leaf=3 ..............\n",
      "[CV]  max_depth=5, max_leaf_nodes=50, min_samples_leaf=3, score=0.026, total=   0.8s\n",
      "[CV] max_depth=5, max_leaf_nodes=50, min_samples_leaf=3 ..............\n",
      "[CV]  max_depth=5, max_leaf_nodes=50, min_samples_leaf=3, score=0.025, total=   0.7s\n",
      "[CV] max_depth=5, max_leaf_nodes=50, min_samples_leaf=3 ..............\n",
      "[CV]  max_depth=5, max_leaf_nodes=50, min_samples_leaf=3, score=0.019, total=   0.7s\n",
      "[CV] max_depth=5, max_leaf_nodes=50, min_samples_leaf=5 ..............\n",
      "[CV]  max_depth=5, max_leaf_nodes=50, min_samples_leaf=5, score=0.019, total=   0.7s\n",
      "[CV] max_depth=5, max_leaf_nodes=50, min_samples_leaf=5 ..............\n",
      "[CV]  max_depth=5, max_leaf_nodes=50, min_samples_leaf=5, score=0.026, total=   0.7s\n",
      "[CV] max_depth=5, max_leaf_nodes=50, min_samples_leaf=5 ..............\n",
      "[CV]  max_depth=5, max_leaf_nodes=50, min_samples_leaf=5, score=0.026, total=   0.7s\n",
      "[CV] max_depth=5, max_leaf_nodes=50, min_samples_leaf=5 ..............\n",
      "[CV]  max_depth=5, max_leaf_nodes=50, min_samples_leaf=5, score=0.025, total=   0.7s\n",
      "[CV] max_depth=5, max_leaf_nodes=50, min_samples_leaf=5 ..............\n",
      "[CV]  max_depth=5, max_leaf_nodes=50, min_samples_leaf=5, score=0.019, total=   0.7s\n",
      "[CV] max_depth=5, max_leaf_nodes=50, min_samples_leaf=7 ..............\n",
      "[CV]  max_depth=5, max_leaf_nodes=50, min_samples_leaf=7, score=0.020, total=   0.7s\n",
      "[CV] max_depth=5, max_leaf_nodes=50, min_samples_leaf=7 ..............\n",
      "[CV]  max_depth=5, max_leaf_nodes=50, min_samples_leaf=7, score=0.026, total=   0.7s\n",
      "[CV] max_depth=5, max_leaf_nodes=50, min_samples_leaf=7 ..............\n",
      "[CV]  max_depth=5, max_leaf_nodes=50, min_samples_leaf=7, score=0.026, total=   0.7s\n",
      "[CV] max_depth=5, max_leaf_nodes=50, min_samples_leaf=7 ..............\n",
      "[CV]  max_depth=5, max_leaf_nodes=50, min_samples_leaf=7, score=0.025, total=   0.7s\n",
      "[CV] max_depth=5, max_leaf_nodes=50, min_samples_leaf=7 ..............\n",
      "[CV]  max_depth=5, max_leaf_nodes=50, min_samples_leaf=7, score=0.019, total=   0.7s\n",
      "[CV] max_depth=5, max_leaf_nodes=55, min_samples_leaf=1 ..............\n",
      "[CV]  max_depth=5, max_leaf_nodes=55, min_samples_leaf=1, score=0.019, total=   0.7s\n",
      "[CV] max_depth=5, max_leaf_nodes=55, min_samples_leaf=1 ..............\n",
      "[CV]  max_depth=5, max_leaf_nodes=55, min_samples_leaf=1, score=0.025, total=   0.7s\n",
      "[CV] max_depth=5, max_leaf_nodes=55, min_samples_leaf=1 ..............\n",
      "[CV]  max_depth=5, max_leaf_nodes=55, min_samples_leaf=1, score=0.026, total=   0.6s\n",
      "[CV] max_depth=5, max_leaf_nodes=55, min_samples_leaf=1 ..............\n",
      "[CV]  max_depth=5, max_leaf_nodes=55, min_samples_leaf=1, score=0.025, total=   0.7s\n",
      "[CV] max_depth=5, max_leaf_nodes=55, min_samples_leaf=1 ..............\n",
      "[CV]  max_depth=5, max_leaf_nodes=55, min_samples_leaf=1, score=0.020, total=   0.7s\n",
      "[CV] max_depth=5, max_leaf_nodes=55, min_samples_leaf=3 ..............\n",
      "[CV]  max_depth=5, max_leaf_nodes=55, min_samples_leaf=3, score=0.019, total=   0.7s\n",
      "[CV] max_depth=5, max_leaf_nodes=55, min_samples_leaf=3 ..............\n",
      "[CV]  max_depth=5, max_leaf_nodes=55, min_samples_leaf=3, score=0.026, total=   0.7s\n",
      "[CV] max_depth=5, max_leaf_nodes=55, min_samples_leaf=3 ..............\n",
      "[CV]  max_depth=5, max_leaf_nodes=55, min_samples_leaf=3, score=0.026, total=   0.7s\n",
      "[CV] max_depth=5, max_leaf_nodes=55, min_samples_leaf=3 ..............\n",
      "[CV]  max_depth=5, max_leaf_nodes=55, min_samples_leaf=3, score=0.025, total=   0.7s\n",
      "[CV] max_depth=5, max_leaf_nodes=55, min_samples_leaf=3 ..............\n",
      "[CV]  max_depth=5, max_leaf_nodes=55, min_samples_leaf=3, score=0.019, total=   0.7s\n",
      "[CV] max_depth=5, max_leaf_nodes=55, min_samples_leaf=5 ..............\n",
      "[CV]  max_depth=5, max_leaf_nodes=55, min_samples_leaf=5, score=0.019, total=   0.7s\n",
      "[CV] max_depth=5, max_leaf_nodes=55, min_samples_leaf=5 ..............\n",
      "[CV]  max_depth=5, max_leaf_nodes=55, min_samples_leaf=5, score=0.026, total=   0.7s\n",
      "[CV] max_depth=5, max_leaf_nodes=55, min_samples_leaf=5 ..............\n",
      "[CV]  max_depth=5, max_leaf_nodes=55, min_samples_leaf=5, score=0.026, total=   0.7s\n",
      "[CV] max_depth=5, max_leaf_nodes=55, min_samples_leaf=5 ..............\n",
      "[CV]  max_depth=5, max_leaf_nodes=55, min_samples_leaf=5, score=0.025, total=   0.7s\n",
      "[CV] max_depth=5, max_leaf_nodes=55, min_samples_leaf=5 ..............\n",
      "[CV]  max_depth=5, max_leaf_nodes=55, min_samples_leaf=5, score=0.019, total=   0.7s\n",
      "[CV] max_depth=5, max_leaf_nodes=55, min_samples_leaf=7 ..............\n",
      "[CV]  max_depth=5, max_leaf_nodes=55, min_samples_leaf=7, score=0.020, total=   0.7s\n",
      "[CV] max_depth=5, max_leaf_nodes=55, min_samples_leaf=7 ..............\n",
      "[CV]  max_depth=5, max_leaf_nodes=55, min_samples_leaf=7, score=0.026, total=   0.7s\n",
      "[CV] max_depth=5, max_leaf_nodes=55, min_samples_leaf=7 ..............\n",
      "[CV]  max_depth=5, max_leaf_nodes=55, min_samples_leaf=7, score=0.026, total=   0.7s\n",
      "[CV] max_depth=5, max_leaf_nodes=55, min_samples_leaf=7 ..............\n",
      "[CV]  max_depth=5, max_leaf_nodes=55, min_samples_leaf=7, score=0.025, total=   0.7s\n",
      "[CV] max_depth=5, max_leaf_nodes=55, min_samples_leaf=7 ..............\n",
      "[CV]  max_depth=5, max_leaf_nodes=55, min_samples_leaf=7, score=0.019, total=   0.7s\n",
      "[CV] max_depth=5, max_leaf_nodes=60, min_samples_leaf=1 ..............\n",
      "[CV]  max_depth=5, max_leaf_nodes=60, min_samples_leaf=1, score=0.019, total=   0.7s\n",
      "[CV] max_depth=5, max_leaf_nodes=60, min_samples_leaf=1 ..............\n",
      "[CV]  max_depth=5, max_leaf_nodes=60, min_samples_leaf=1, score=0.025, total=   0.7s\n",
      "[CV] max_depth=5, max_leaf_nodes=60, min_samples_leaf=1 ..............\n"
     ]
    },
    {
     "name": "stdout",
     "output_type": "stream",
     "text": [
      "[CV]  max_depth=5, max_leaf_nodes=60, min_samples_leaf=1, score=0.026, total=   0.8s\n",
      "[CV] max_depth=5, max_leaf_nodes=60, min_samples_leaf=1 ..............\n",
      "[CV]  max_depth=5, max_leaf_nodes=60, min_samples_leaf=1, score=0.025, total=   0.8s\n",
      "[CV] max_depth=5, max_leaf_nodes=60, min_samples_leaf=1 ..............\n",
      "[CV]  max_depth=5, max_leaf_nodes=60, min_samples_leaf=1, score=0.020, total=   0.8s\n",
      "[CV] max_depth=5, max_leaf_nodes=60, min_samples_leaf=3 ..............\n",
      "[CV]  max_depth=5, max_leaf_nodes=60, min_samples_leaf=3, score=0.019, total=   0.7s\n",
      "[CV] max_depth=5, max_leaf_nodes=60, min_samples_leaf=3 ..............\n",
      "[CV]  max_depth=5, max_leaf_nodes=60, min_samples_leaf=3, score=0.026, total=   0.7s\n",
      "[CV] max_depth=5, max_leaf_nodes=60, min_samples_leaf=3 ..............\n",
      "[CV]  max_depth=5, max_leaf_nodes=60, min_samples_leaf=3, score=0.026, total=   0.7s\n",
      "[CV] max_depth=5, max_leaf_nodes=60, min_samples_leaf=3 ..............\n",
      "[CV]  max_depth=5, max_leaf_nodes=60, min_samples_leaf=3, score=0.025, total=11.0min\n",
      "[CV] max_depth=5, max_leaf_nodes=60, min_samples_leaf=3 ..............\n",
      "[CV]  max_depth=5, max_leaf_nodes=60, min_samples_leaf=3, score=0.019, total=   0.8s\n",
      "[CV] max_depth=5, max_leaf_nodes=60, min_samples_leaf=5 ..............\n",
      "[CV]  max_depth=5, max_leaf_nodes=60, min_samples_leaf=5, score=0.019, total=   0.7s\n",
      "[CV] max_depth=5, max_leaf_nodes=60, min_samples_leaf=5 ..............\n",
      "[CV]  max_depth=5, max_leaf_nodes=60, min_samples_leaf=5, score=0.026, total=   1.6s\n",
      "[CV] max_depth=5, max_leaf_nodes=60, min_samples_leaf=5 ..............\n",
      "[CV]  max_depth=5, max_leaf_nodes=60, min_samples_leaf=5, score=0.026, total=   0.8s\n",
      "[CV] max_depth=5, max_leaf_nodes=60, min_samples_leaf=5 ..............\n",
      "[CV]  max_depth=5, max_leaf_nodes=60, min_samples_leaf=5, score=0.025, total=   0.6s\n",
      "[CV] max_depth=5, max_leaf_nodes=60, min_samples_leaf=5 ..............\n",
      "[CV]  max_depth=5, max_leaf_nodes=60, min_samples_leaf=5, score=0.019, total=   0.5s\n",
      "[CV] max_depth=5, max_leaf_nodes=60, min_samples_leaf=7 ..............\n",
      "[CV]  max_depth=5, max_leaf_nodes=60, min_samples_leaf=7, score=0.020, total=   0.8s\n",
      "[CV] max_depth=5, max_leaf_nodes=60, min_samples_leaf=7 ..............\n",
      "[CV]  max_depth=5, max_leaf_nodes=60, min_samples_leaf=7, score=0.026, total=   0.7s\n",
      "[CV] max_depth=5, max_leaf_nodes=60, min_samples_leaf=7 ..............\n",
      "[CV]  max_depth=5, max_leaf_nodes=60, min_samples_leaf=7, score=0.026, total=   0.8s\n",
      "[CV] max_depth=5, max_leaf_nodes=60, min_samples_leaf=7 ..............\n",
      "[CV]  max_depth=5, max_leaf_nodes=60, min_samples_leaf=7, score=0.025, total=   0.7s\n",
      "[CV] max_depth=5, max_leaf_nodes=60, min_samples_leaf=7 ..............\n",
      "[CV]  max_depth=5, max_leaf_nodes=60, min_samples_leaf=7, score=0.019, total=   0.8s\n",
      "[CV] max_depth=5, max_leaf_nodes=65, min_samples_leaf=1 ..............\n",
      "[CV]  max_depth=5, max_leaf_nodes=65, min_samples_leaf=1, score=0.019, total=   0.7s\n",
      "[CV] max_depth=5, max_leaf_nodes=65, min_samples_leaf=1 ..............\n",
      "[CV]  max_depth=5, max_leaf_nodes=65, min_samples_leaf=1, score=0.025, total=   0.7s\n",
      "[CV] max_depth=5, max_leaf_nodes=65, min_samples_leaf=1 ..............\n",
      "[CV]  max_depth=5, max_leaf_nodes=65, min_samples_leaf=1, score=0.026, total=   0.7s\n",
      "[CV] max_depth=5, max_leaf_nodes=65, min_samples_leaf=1 ..............\n",
      "[CV]  max_depth=5, max_leaf_nodes=65, min_samples_leaf=1, score=0.025, total=   0.9s\n",
      "[CV] max_depth=5, max_leaf_nodes=65, min_samples_leaf=1 ..............\n",
      "[CV]  max_depth=5, max_leaf_nodes=65, min_samples_leaf=1, score=0.020, total=   0.8s\n",
      "[CV] max_depth=5, max_leaf_nodes=65, min_samples_leaf=3 ..............\n",
      "[CV]  max_depth=5, max_leaf_nodes=65, min_samples_leaf=3, score=0.019, total=   0.8s\n",
      "[CV] max_depth=5, max_leaf_nodes=65, min_samples_leaf=3 ..............\n",
      "[CV]  max_depth=5, max_leaf_nodes=65, min_samples_leaf=3, score=0.026, total=   0.7s\n",
      "[CV] max_depth=5, max_leaf_nodes=65, min_samples_leaf=3 ..............\n",
      "[CV]  max_depth=5, max_leaf_nodes=65, min_samples_leaf=3, score=0.026, total=   0.7s\n",
      "[CV] max_depth=5, max_leaf_nodes=65, min_samples_leaf=3 ..............\n",
      "[CV]  max_depth=5, max_leaf_nodes=65, min_samples_leaf=3, score=0.025, total=   0.7s\n",
      "[CV] max_depth=5, max_leaf_nodes=65, min_samples_leaf=3 ..............\n",
      "[CV]  max_depth=5, max_leaf_nodes=65, min_samples_leaf=3, score=0.019, total=   0.7s\n",
      "[CV] max_depth=5, max_leaf_nodes=65, min_samples_leaf=5 ..............\n",
      "[CV]  max_depth=5, max_leaf_nodes=65, min_samples_leaf=5, score=0.019, total=   0.7s\n",
      "[CV] max_depth=5, max_leaf_nodes=65, min_samples_leaf=5 ..............\n",
      "[CV]  max_depth=5, max_leaf_nodes=65, min_samples_leaf=5, score=0.026, total=   0.7s\n",
      "[CV] max_depth=5, max_leaf_nodes=65, min_samples_leaf=5 ..............\n",
      "[CV]  max_depth=5, max_leaf_nodes=65, min_samples_leaf=5, score=0.026, total=   0.7s\n",
      "[CV] max_depth=5, max_leaf_nodes=65, min_samples_leaf=5 ..............\n",
      "[CV]  max_depth=5, max_leaf_nodes=65, min_samples_leaf=5, score=0.025, total=   0.7s\n",
      "[CV] max_depth=5, max_leaf_nodes=65, min_samples_leaf=5 ..............\n",
      "[CV]  max_depth=5, max_leaf_nodes=65, min_samples_leaf=5, score=0.019, total=   0.7s\n",
      "[CV] max_depth=5, max_leaf_nodes=65, min_samples_leaf=7 ..............\n",
      "[CV]  max_depth=5, max_leaf_nodes=65, min_samples_leaf=7, score=0.020, total=   0.7s\n",
      "[CV] max_depth=5, max_leaf_nodes=65, min_samples_leaf=7 ..............\n",
      "[CV]  max_depth=5, max_leaf_nodes=65, min_samples_leaf=7, score=0.026, total=   0.7s\n",
      "[CV] max_depth=5, max_leaf_nodes=65, min_samples_leaf=7 ..............\n",
      "[CV]  max_depth=5, max_leaf_nodes=65, min_samples_leaf=7, score=0.026, total=   0.7s\n",
      "[CV] max_depth=5, max_leaf_nodes=65, min_samples_leaf=7 ..............\n",
      "[CV]  max_depth=5, max_leaf_nodes=65, min_samples_leaf=7, score=0.025, total=   0.7s\n",
      "[CV] max_depth=5, max_leaf_nodes=65, min_samples_leaf=7 ..............\n",
      "[CV]  max_depth=5, max_leaf_nodes=65, min_samples_leaf=7, score=0.019, total=   0.7s\n",
      "[CV] max_depth=6, max_leaf_nodes=45, min_samples_leaf=1 ..............\n",
      "[CV]  max_depth=6, max_leaf_nodes=45, min_samples_leaf=1, score=0.022, total=   0.8s\n",
      "[CV] max_depth=6, max_leaf_nodes=45, min_samples_leaf=1 ..............\n",
      "[CV]  max_depth=6, max_leaf_nodes=45, min_samples_leaf=1, score=0.029, total=   0.8s\n",
      "[CV] max_depth=6, max_leaf_nodes=45, min_samples_leaf=1 ..............\n",
      "[CV]  max_depth=6, max_leaf_nodes=45, min_samples_leaf=1, score=0.028, total=   0.8s\n",
      "[CV] max_depth=6, max_leaf_nodes=45, min_samples_leaf=1 ..............\n",
      "[CV]  max_depth=6, max_leaf_nodes=45, min_samples_leaf=1, score=0.027, total=   0.8s\n",
      "[CV] max_depth=6, max_leaf_nodes=45, min_samples_leaf=1 ..............\n",
      "[CV]  max_depth=6, max_leaf_nodes=45, min_samples_leaf=1, score=0.024, total=   0.8s\n",
      "[CV] max_depth=6, max_leaf_nodes=45, min_samples_leaf=3 ..............\n",
      "[CV]  max_depth=6, max_leaf_nodes=45, min_samples_leaf=3, score=0.022, total=   0.7s\n",
      "[CV] max_depth=6, max_leaf_nodes=45, min_samples_leaf=3 ..............\n",
      "[CV]  max_depth=6, max_leaf_nodes=45, min_samples_leaf=3, score=0.030, total=   0.8s\n",
      "[CV] max_depth=6, max_leaf_nodes=45, min_samples_leaf=3 ..............\n",
      "[CV]  max_depth=6, max_leaf_nodes=45, min_samples_leaf=3, score=0.028, total=   0.8s\n",
      "[CV] max_depth=6, max_leaf_nodes=45, min_samples_leaf=3 ..............\n",
      "[CV]  max_depth=6, max_leaf_nodes=45, min_samples_leaf=3, score=0.027, total=   0.8s\n",
      "[CV] max_depth=6, max_leaf_nodes=45, min_samples_leaf=3 ..............\n",
      "[CV]  max_depth=6, max_leaf_nodes=45, min_samples_leaf=3, score=0.023, total=   0.8s\n",
      "[CV] max_depth=6, max_leaf_nodes=45, min_samples_leaf=5 ..............\n",
      "[CV]  max_depth=6, max_leaf_nodes=45, min_samples_leaf=5, score=0.023, total=   0.9s\n",
      "[CV] max_depth=6, max_leaf_nodes=45, min_samples_leaf=5 ..............\n",
      "[CV]  max_depth=6, max_leaf_nodes=45, min_samples_leaf=5, score=0.030, total=   0.9s\n",
      "[CV] max_depth=6, max_leaf_nodes=45, min_samples_leaf=5 ..............\n",
      "[CV]  max_depth=6, max_leaf_nodes=45, min_samples_leaf=5, score=0.028, total=   0.9s\n",
      "[CV] max_depth=6, max_leaf_nodes=45, min_samples_leaf=5 ..............\n",
      "[CV]  max_depth=6, max_leaf_nodes=45, min_samples_leaf=5, score=0.027, total=   0.8s\n",
      "[CV] max_depth=6, max_leaf_nodes=45, min_samples_leaf=5 ..............\n",
      "[CV]  max_depth=6, max_leaf_nodes=45, min_samples_leaf=5, score=0.023, total=   0.8s\n",
      "[CV] max_depth=6, max_leaf_nodes=45, min_samples_leaf=7 ..............\n"
     ]
    },
    {
     "name": "stdout",
     "output_type": "stream",
     "text": [
      "[CV]  max_depth=6, max_leaf_nodes=45, min_samples_leaf=7, score=0.023, total=   0.8s\n",
      "[CV] max_depth=6, max_leaf_nodes=45, min_samples_leaf=7 ..............\n",
      "[CV]  max_depth=6, max_leaf_nodes=45, min_samples_leaf=7, score=0.030, total=   0.8s\n",
      "[CV] max_depth=6, max_leaf_nodes=45, min_samples_leaf=7 ..............\n",
      "[CV]  max_depth=6, max_leaf_nodes=45, min_samples_leaf=7, score=0.028, total=   0.8s\n",
      "[CV] max_depth=6, max_leaf_nodes=45, min_samples_leaf=7 ..............\n",
      "[CV]  max_depth=6, max_leaf_nodes=45, min_samples_leaf=7, score=0.027, total=   0.8s\n",
      "[CV] max_depth=6, max_leaf_nodes=45, min_samples_leaf=7 ..............\n",
      "[CV]  max_depth=6, max_leaf_nodes=45, min_samples_leaf=7, score=0.024, total=   0.9s\n",
      "[CV] max_depth=6, max_leaf_nodes=50, min_samples_leaf=1 ..............\n",
      "[CV]  max_depth=6, max_leaf_nodes=50, min_samples_leaf=1, score=0.022, total=   0.8s\n",
      "[CV] max_depth=6, max_leaf_nodes=50, min_samples_leaf=1 ..............\n",
      "[CV]  max_depth=6, max_leaf_nodes=50, min_samples_leaf=1, score=0.028, total=   0.9s\n",
      "[CV] max_depth=6, max_leaf_nodes=50, min_samples_leaf=1 ..............\n",
      "[CV]  max_depth=6, max_leaf_nodes=50, min_samples_leaf=1, score=0.027, total=   0.9s\n",
      "[CV] max_depth=6, max_leaf_nodes=50, min_samples_leaf=1 ..............\n",
      "[CV]  max_depth=6, max_leaf_nodes=50, min_samples_leaf=1, score=0.027, total=   0.9s\n",
      "[CV] max_depth=6, max_leaf_nodes=50, min_samples_leaf=1 ..............\n",
      "[CV]  max_depth=6, max_leaf_nodes=50, min_samples_leaf=1, score=0.024, total=   0.9s\n",
      "[CV] max_depth=6, max_leaf_nodes=50, min_samples_leaf=3 ..............\n",
      "[CV]  max_depth=6, max_leaf_nodes=50, min_samples_leaf=3, score=0.023, total=   0.8s\n",
      "[CV] max_depth=6, max_leaf_nodes=50, min_samples_leaf=3 ..............\n",
      "[CV]  max_depth=6, max_leaf_nodes=50, min_samples_leaf=3, score=0.029, total=   0.8s\n",
      "[CV] max_depth=6, max_leaf_nodes=50, min_samples_leaf=3 ..............\n",
      "[CV]  max_depth=6, max_leaf_nodes=50, min_samples_leaf=3, score=0.027, total=   0.8s\n",
      "[CV] max_depth=6, max_leaf_nodes=50, min_samples_leaf=3 ..............\n",
      "[CV]  max_depth=6, max_leaf_nodes=50, min_samples_leaf=3, score=0.027, total=   0.8s\n",
      "[CV] max_depth=6, max_leaf_nodes=50, min_samples_leaf=3 ..............\n",
      "[CV]  max_depth=6, max_leaf_nodes=50, min_samples_leaf=3, score=0.023, total=   0.9s\n",
      "[CV] max_depth=6, max_leaf_nodes=50, min_samples_leaf=5 ..............\n",
      "[CV]  max_depth=6, max_leaf_nodes=50, min_samples_leaf=5, score=0.023, total=   0.8s\n",
      "[CV] max_depth=6, max_leaf_nodes=50, min_samples_leaf=5 ..............\n",
      "[CV]  max_depth=6, max_leaf_nodes=50, min_samples_leaf=5, score=0.029, total=   0.8s\n",
      "[CV] max_depth=6, max_leaf_nodes=50, min_samples_leaf=5 ..............\n",
      "[CV]  max_depth=6, max_leaf_nodes=50, min_samples_leaf=5, score=0.028, total=   0.8s\n",
      "[CV] max_depth=6, max_leaf_nodes=50, min_samples_leaf=5 ..............\n",
      "[CV]  max_depth=6, max_leaf_nodes=50, min_samples_leaf=5, score=0.027, total=   0.8s\n",
      "[CV] max_depth=6, max_leaf_nodes=50, min_samples_leaf=5 ..............\n",
      "[CV]  max_depth=6, max_leaf_nodes=50, min_samples_leaf=5, score=0.023, total=   0.8s\n",
      "[CV] max_depth=6, max_leaf_nodes=50, min_samples_leaf=7 ..............\n",
      "[CV]  max_depth=6, max_leaf_nodes=50, min_samples_leaf=7, score=0.024, total=   0.8s\n",
      "[CV] max_depth=6, max_leaf_nodes=50, min_samples_leaf=7 ..............\n",
      "[CV]  max_depth=6, max_leaf_nodes=50, min_samples_leaf=7, score=0.029, total=   0.7s\n",
      "[CV] max_depth=6, max_leaf_nodes=50, min_samples_leaf=7 ..............\n",
      "[CV]  max_depth=6, max_leaf_nodes=50, min_samples_leaf=7, score=0.028, total=   0.8s\n",
      "[CV] max_depth=6, max_leaf_nodes=50, min_samples_leaf=7 ..............\n",
      "[CV]  max_depth=6, max_leaf_nodes=50, min_samples_leaf=7, score=0.027, total=   0.8s\n",
      "[CV] max_depth=6, max_leaf_nodes=50, min_samples_leaf=7 ..............\n",
      "[CV]  max_depth=6, max_leaf_nodes=50, min_samples_leaf=7, score=0.022, total=   0.8s\n",
      "[CV] max_depth=6, max_leaf_nodes=55, min_samples_leaf=1 ..............\n",
      "[CV]  max_depth=6, max_leaf_nodes=55, min_samples_leaf=1, score=0.022, total=   0.8s\n",
      "[CV] max_depth=6, max_leaf_nodes=55, min_samples_leaf=1 ..............\n",
      "[CV]  max_depth=6, max_leaf_nodes=55, min_samples_leaf=1, score=0.028, total=   0.8s\n",
      "[CV] max_depth=6, max_leaf_nodes=55, min_samples_leaf=1 ..............\n",
      "[CV]  max_depth=6, max_leaf_nodes=55, min_samples_leaf=1, score=0.027, total=   0.8s\n",
      "[CV] max_depth=6, max_leaf_nodes=55, min_samples_leaf=1 ..............\n",
      "[CV]  max_depth=6, max_leaf_nodes=55, min_samples_leaf=1, score=0.026, total=   0.8s\n",
      "[CV] max_depth=6, max_leaf_nodes=55, min_samples_leaf=1 ..............\n",
      "[CV]  max_depth=6, max_leaf_nodes=55, min_samples_leaf=1, score=0.023, total=   0.8s\n",
      "[CV] max_depth=6, max_leaf_nodes=55, min_samples_leaf=3 ..............\n",
      "[CV]  max_depth=6, max_leaf_nodes=55, min_samples_leaf=3, score=0.022, total=   0.8s\n",
      "[CV] max_depth=6, max_leaf_nodes=55, min_samples_leaf=3 ..............\n",
      "[CV]  max_depth=6, max_leaf_nodes=55, min_samples_leaf=3, score=0.029, total=   0.8s\n",
      "[CV] max_depth=6, max_leaf_nodes=55, min_samples_leaf=3 ..............\n",
      "[CV]  max_depth=6, max_leaf_nodes=55, min_samples_leaf=3, score=0.027, total=   0.7s\n",
      "[CV] max_depth=6, max_leaf_nodes=55, min_samples_leaf=3 ..............\n",
      "[CV]  max_depth=6, max_leaf_nodes=55, min_samples_leaf=3, score=0.026, total=   0.8s\n",
      "[CV] max_depth=6, max_leaf_nodes=55, min_samples_leaf=3 ..............\n",
      "[CV]  max_depth=6, max_leaf_nodes=55, min_samples_leaf=3, score=0.022, total=   0.8s\n",
      "[CV] max_depth=6, max_leaf_nodes=55, min_samples_leaf=5 ..............\n",
      "[CV]  max_depth=6, max_leaf_nodes=55, min_samples_leaf=5, score=0.022, total=   0.8s\n",
      "[CV] max_depth=6, max_leaf_nodes=55, min_samples_leaf=5 ..............\n",
      "[CV]  max_depth=6, max_leaf_nodes=55, min_samples_leaf=5, score=0.029, total=   0.8s\n",
      "[CV] max_depth=6, max_leaf_nodes=55, min_samples_leaf=5 ..............\n",
      "[CV]  max_depth=6, max_leaf_nodes=55, min_samples_leaf=5, score=0.028, total=   0.8s\n",
      "[CV] max_depth=6, max_leaf_nodes=55, min_samples_leaf=5 ..............\n",
      "[CV]  max_depth=6, max_leaf_nodes=55, min_samples_leaf=5, score=0.027, total=   0.8s\n",
      "[CV] max_depth=6, max_leaf_nodes=55, min_samples_leaf=5 ..............\n",
      "[CV]  max_depth=6, max_leaf_nodes=55, min_samples_leaf=5, score=0.022, total=   0.8s\n",
      "[CV] max_depth=6, max_leaf_nodes=55, min_samples_leaf=7 ..............\n",
      "[CV]  max_depth=6, max_leaf_nodes=55, min_samples_leaf=7, score=0.023, total=   0.8s\n",
      "[CV] max_depth=6, max_leaf_nodes=55, min_samples_leaf=7 ..............\n",
      "[CV]  max_depth=6, max_leaf_nodes=55, min_samples_leaf=7, score=0.029, total=   0.8s\n",
      "[CV] max_depth=6, max_leaf_nodes=55, min_samples_leaf=7 ..............\n",
      "[CV]  max_depth=6, max_leaf_nodes=55, min_samples_leaf=7, score=0.027, total=   0.8s\n",
      "[CV] max_depth=6, max_leaf_nodes=55, min_samples_leaf=7 ..............\n",
      "[CV]  max_depth=6, max_leaf_nodes=55, min_samples_leaf=7, score=0.027, total=   0.8s\n",
      "[CV] max_depth=6, max_leaf_nodes=55, min_samples_leaf=7 ..............\n",
      "[CV]  max_depth=6, max_leaf_nodes=55, min_samples_leaf=7, score=0.022, total=   0.8s\n",
      "[CV] max_depth=6, max_leaf_nodes=60, min_samples_leaf=1 ..............\n",
      "[CV]  max_depth=6, max_leaf_nodes=60, min_samples_leaf=1, score=0.022, total=   0.8s\n",
      "[CV] max_depth=6, max_leaf_nodes=60, min_samples_leaf=1 ..............\n",
      "[CV]  max_depth=6, max_leaf_nodes=60, min_samples_leaf=1, score=0.028, total=   0.8s\n",
      "[CV] max_depth=6, max_leaf_nodes=60, min_samples_leaf=1 ..............\n",
      "[CV]  max_depth=6, max_leaf_nodes=60, min_samples_leaf=1, score=0.027, total=   0.8s\n",
      "[CV] max_depth=6, max_leaf_nodes=60, min_samples_leaf=1 ..............\n",
      "[CV]  max_depth=6, max_leaf_nodes=60, min_samples_leaf=1, score=0.026, total=   0.8s\n",
      "[CV] max_depth=6, max_leaf_nodes=60, min_samples_leaf=1 ..............\n",
      "[CV]  max_depth=6, max_leaf_nodes=60, min_samples_leaf=1, score=0.023, total=   0.8s\n",
      "[CV] max_depth=6, max_leaf_nodes=60, min_samples_leaf=3 ..............\n",
      "[CV]  max_depth=6, max_leaf_nodes=60, min_samples_leaf=3, score=0.022, total=   0.8s\n",
      "[CV] max_depth=6, max_leaf_nodes=60, min_samples_leaf=3 ..............\n",
      "[CV]  max_depth=6, max_leaf_nodes=60, min_samples_leaf=3, score=0.028, total=   0.8s\n",
      "[CV] max_depth=6, max_leaf_nodes=60, min_samples_leaf=3 ..............\n",
      "[CV]  max_depth=6, max_leaf_nodes=60, min_samples_leaf=3, score=0.027, total=   0.8s\n",
      "[CV] max_depth=6, max_leaf_nodes=60, min_samples_leaf=3 ..............\n"
     ]
    },
    {
     "name": "stdout",
     "output_type": "stream",
     "text": [
      "[CV]  max_depth=6, max_leaf_nodes=60, min_samples_leaf=3, score=0.026, total=   0.8s\n",
      "[CV] max_depth=6, max_leaf_nodes=60, min_samples_leaf=3 ..............\n",
      "[CV]  max_depth=6, max_leaf_nodes=60, min_samples_leaf=3, score=0.022, total=   0.8s\n",
      "[CV] max_depth=6, max_leaf_nodes=60, min_samples_leaf=5 ..............\n",
      "[CV]  max_depth=6, max_leaf_nodes=60, min_samples_leaf=5, score=0.022, total=   0.8s\n",
      "[CV] max_depth=6, max_leaf_nodes=60, min_samples_leaf=5 ..............\n",
      "[CV]  max_depth=6, max_leaf_nodes=60, min_samples_leaf=5, score=0.028, total=   0.8s\n",
      "[CV] max_depth=6, max_leaf_nodes=60, min_samples_leaf=5 ..............\n",
      "[CV]  max_depth=6, max_leaf_nodes=60, min_samples_leaf=5, score=0.027, total=   0.7s\n",
      "[CV] max_depth=6, max_leaf_nodes=60, min_samples_leaf=5 ..............\n",
      "[CV]  max_depth=6, max_leaf_nodes=60, min_samples_leaf=5, score=0.027, total=   0.7s\n",
      "[CV] max_depth=6, max_leaf_nodes=60, min_samples_leaf=5 ..............\n",
      "[CV]  max_depth=6, max_leaf_nodes=60, min_samples_leaf=5, score=0.022, total=   0.8s\n",
      "[CV] max_depth=6, max_leaf_nodes=60, min_samples_leaf=7 ..............\n",
      "[CV]  max_depth=6, max_leaf_nodes=60, min_samples_leaf=7, score=0.023, total=   0.8s\n",
      "[CV] max_depth=6, max_leaf_nodes=60, min_samples_leaf=7 ..............\n",
      "[CV]  max_depth=6, max_leaf_nodes=60, min_samples_leaf=7, score=0.029, total=   0.8s\n",
      "[CV] max_depth=6, max_leaf_nodes=60, min_samples_leaf=7 ..............\n",
      "[CV]  max_depth=6, max_leaf_nodes=60, min_samples_leaf=7, score=0.027, total=   0.8s\n",
      "[CV] max_depth=6, max_leaf_nodes=60, min_samples_leaf=7 ..............\n",
      "[CV]  max_depth=6, max_leaf_nodes=60, min_samples_leaf=7, score=0.027, total=   0.8s\n",
      "[CV] max_depth=6, max_leaf_nodes=60, min_samples_leaf=7 ..............\n",
      "[CV]  max_depth=6, max_leaf_nodes=60, min_samples_leaf=7, score=0.022, total=   0.8s\n",
      "[CV] max_depth=6, max_leaf_nodes=65, min_samples_leaf=1 ..............\n",
      "[CV]  max_depth=6, max_leaf_nodes=65, min_samples_leaf=1, score=0.022, total=   0.8s\n",
      "[CV] max_depth=6, max_leaf_nodes=65, min_samples_leaf=1 ..............\n",
      "[CV]  max_depth=6, max_leaf_nodes=65, min_samples_leaf=1, score=0.028, total=   0.8s\n",
      "[CV] max_depth=6, max_leaf_nodes=65, min_samples_leaf=1 ..............\n",
      "[CV]  max_depth=6, max_leaf_nodes=65, min_samples_leaf=1, score=0.027, total=   0.8s\n",
      "[CV] max_depth=6, max_leaf_nodes=65, min_samples_leaf=1 ..............\n",
      "[CV]  max_depth=6, max_leaf_nodes=65, min_samples_leaf=1, score=0.026, total=   0.8s\n",
      "[CV] max_depth=6, max_leaf_nodes=65, min_samples_leaf=1 ..............\n",
      "[CV]  max_depth=6, max_leaf_nodes=65, min_samples_leaf=1, score=0.023, total=   0.8s\n",
      "[CV] max_depth=6, max_leaf_nodes=65, min_samples_leaf=3 ..............\n",
      "[CV]  max_depth=6, max_leaf_nodes=65, min_samples_leaf=3, score=0.022, total=   0.8s\n",
      "[CV] max_depth=6, max_leaf_nodes=65, min_samples_leaf=3 ..............\n",
      "[CV]  max_depth=6, max_leaf_nodes=65, min_samples_leaf=3, score=0.028, total=   0.8s\n",
      "[CV] max_depth=6, max_leaf_nodes=65, min_samples_leaf=3 ..............\n",
      "[CV]  max_depth=6, max_leaf_nodes=65, min_samples_leaf=3, score=0.027, total=   0.8s\n",
      "[CV] max_depth=6, max_leaf_nodes=65, min_samples_leaf=3 ..............\n",
      "[CV]  max_depth=6, max_leaf_nodes=65, min_samples_leaf=3, score=0.026, total=   0.8s\n",
      "[CV] max_depth=6, max_leaf_nodes=65, min_samples_leaf=3 ..............\n",
      "[CV]  max_depth=6, max_leaf_nodes=65, min_samples_leaf=3, score=0.022, total=   0.8s\n",
      "[CV] max_depth=6, max_leaf_nodes=65, min_samples_leaf=5 ..............\n",
      "[CV]  max_depth=6, max_leaf_nodes=65, min_samples_leaf=5, score=0.022, total=   0.8s\n",
      "[CV] max_depth=6, max_leaf_nodes=65, min_samples_leaf=5 ..............\n",
      "[CV]  max_depth=6, max_leaf_nodes=65, min_samples_leaf=5, score=0.028, total=   0.8s\n",
      "[CV] max_depth=6, max_leaf_nodes=65, min_samples_leaf=5 ..............\n",
      "[CV]  max_depth=6, max_leaf_nodes=65, min_samples_leaf=5, score=0.027, total=   0.8s\n",
      "[CV] max_depth=6, max_leaf_nodes=65, min_samples_leaf=5 ..............\n",
      "[CV]  max_depth=6, max_leaf_nodes=65, min_samples_leaf=5, score=0.027, total=   0.8s\n",
      "[CV] max_depth=6, max_leaf_nodes=65, min_samples_leaf=5 ..............\n",
      "[CV]  max_depth=6, max_leaf_nodes=65, min_samples_leaf=5, score=0.022, total=   0.8s\n",
      "[CV] max_depth=6, max_leaf_nodes=65, min_samples_leaf=7 ..............\n",
      "[CV]  max_depth=6, max_leaf_nodes=65, min_samples_leaf=7, score=0.023, total=   0.8s\n",
      "[CV] max_depth=6, max_leaf_nodes=65, min_samples_leaf=7 ..............\n",
      "[CV]  max_depth=6, max_leaf_nodes=65, min_samples_leaf=7, score=0.029, total=   0.8s\n",
      "[CV] max_depth=6, max_leaf_nodes=65, min_samples_leaf=7 ..............\n",
      "[CV]  max_depth=6, max_leaf_nodes=65, min_samples_leaf=7, score=0.027, total=   0.8s\n",
      "[CV] max_depth=6, max_leaf_nodes=65, min_samples_leaf=7 ..............\n",
      "[CV]  max_depth=6, max_leaf_nodes=65, min_samples_leaf=7, score=0.027, total=   0.8s\n",
      "[CV] max_depth=6, max_leaf_nodes=65, min_samples_leaf=7 ..............\n",
      "[CV]  max_depth=6, max_leaf_nodes=65, min_samples_leaf=7, score=0.022, total=   0.8s\n",
      "[CV] max_depth=7, max_leaf_nodes=45, min_samples_leaf=1 ..............\n",
      "[CV]  max_depth=7, max_leaf_nodes=45, min_samples_leaf=1, score=0.027, total=   0.9s\n",
      "[CV] max_depth=7, max_leaf_nodes=45, min_samples_leaf=1 ..............\n",
      "[CV]  max_depth=7, max_leaf_nodes=45, min_samples_leaf=1, score=0.031, total=   0.9s\n",
      "[CV] max_depth=7, max_leaf_nodes=45, min_samples_leaf=1 ..............\n",
      "[CV]  max_depth=7, max_leaf_nodes=45, min_samples_leaf=1, score=0.028, total=   0.9s\n",
      "[CV] max_depth=7, max_leaf_nodes=45, min_samples_leaf=1 ..............\n",
      "[CV]  max_depth=7, max_leaf_nodes=45, min_samples_leaf=1, score=0.029, total=   0.9s\n",
      "[CV] max_depth=7, max_leaf_nodes=45, min_samples_leaf=1 ..............\n",
      "[CV]  max_depth=7, max_leaf_nodes=45, min_samples_leaf=1, score=0.024, total=   0.9s\n",
      "[CV] max_depth=7, max_leaf_nodes=45, min_samples_leaf=3 ..............\n",
      "[CV]  max_depth=7, max_leaf_nodes=45, min_samples_leaf=3, score=0.027, total=   0.9s\n",
      "[CV] max_depth=7, max_leaf_nodes=45, min_samples_leaf=3 ..............\n",
      "[CV]  max_depth=7, max_leaf_nodes=45, min_samples_leaf=3, score=0.031, total=   0.9s\n",
      "[CV] max_depth=7, max_leaf_nodes=45, min_samples_leaf=3 ..............\n",
      "[CV]  max_depth=7, max_leaf_nodes=45, min_samples_leaf=3, score=0.028, total=   0.8s\n",
      "[CV] max_depth=7, max_leaf_nodes=45, min_samples_leaf=3 ..............\n",
      "[CV]  max_depth=7, max_leaf_nodes=45, min_samples_leaf=3, score=0.029, total=   0.9s\n",
      "[CV] max_depth=7, max_leaf_nodes=45, min_samples_leaf=3 ..............\n",
      "[CV]  max_depth=7, max_leaf_nodes=45, min_samples_leaf=3, score=0.024, total=   0.9s\n",
      "[CV] max_depth=7, max_leaf_nodes=45, min_samples_leaf=5 ..............\n",
      "[CV]  max_depth=7, max_leaf_nodes=45, min_samples_leaf=5, score=0.027, total=   0.9s\n",
      "[CV] max_depth=7, max_leaf_nodes=45, min_samples_leaf=5 ..............\n",
      "[CV]  max_depth=7, max_leaf_nodes=45, min_samples_leaf=5, score=0.031, total=   0.9s\n",
      "[CV] max_depth=7, max_leaf_nodes=45, min_samples_leaf=5 ..............\n",
      "[CV]  max_depth=7, max_leaf_nodes=45, min_samples_leaf=5, score=0.028, total=   0.9s\n",
      "[CV] max_depth=7, max_leaf_nodes=45, min_samples_leaf=5 ..............\n",
      "[CV]  max_depth=7, max_leaf_nodes=45, min_samples_leaf=5, score=0.029, total=   0.9s\n",
      "[CV] max_depth=7, max_leaf_nodes=45, min_samples_leaf=5 ..............\n",
      "[CV]  max_depth=7, max_leaf_nodes=45, min_samples_leaf=5, score=0.024, total=   0.8s\n",
      "[CV] max_depth=7, max_leaf_nodes=45, min_samples_leaf=7 ..............\n",
      "[CV]  max_depth=7, max_leaf_nodes=45, min_samples_leaf=7, score=0.027, total=   0.9s\n",
      "[CV] max_depth=7, max_leaf_nodes=45, min_samples_leaf=7 ..............\n",
      "[CV]  max_depth=7, max_leaf_nodes=45, min_samples_leaf=7, score=0.031, total=   0.9s\n",
      "[CV] max_depth=7, max_leaf_nodes=45, min_samples_leaf=7 ..............\n",
      "[CV]  max_depth=7, max_leaf_nodes=45, min_samples_leaf=7, score=0.028, total=   0.9s\n",
      "[CV] max_depth=7, max_leaf_nodes=45, min_samples_leaf=7 ..............\n",
      "[CV]  max_depth=7, max_leaf_nodes=45, min_samples_leaf=7, score=0.029, total=   0.9s\n",
      "[CV] max_depth=7, max_leaf_nodes=45, min_samples_leaf=7 ..............\n",
      "[CV]  max_depth=7, max_leaf_nodes=45, min_samples_leaf=7, score=0.024, total=   0.9s\n",
      "[CV] max_depth=7, max_leaf_nodes=50, min_samples_leaf=1 ..............\n",
      "[CV]  max_depth=7, max_leaf_nodes=50, min_samples_leaf=1, score=0.026, total=   0.9s\n",
      "[CV] max_depth=7, max_leaf_nodes=50, min_samples_leaf=1 ..............\n"
     ]
    },
    {
     "name": "stdout",
     "output_type": "stream",
     "text": [
      "[CV]  max_depth=7, max_leaf_nodes=50, min_samples_leaf=1, score=0.031, total=   0.9s\n",
      "[CV] max_depth=7, max_leaf_nodes=50, min_samples_leaf=1 ..............\n",
      "[CV]  max_depth=7, max_leaf_nodes=50, min_samples_leaf=1, score=0.027, total=   0.8s\n",
      "[CV] max_depth=7, max_leaf_nodes=50, min_samples_leaf=1 ..............\n",
      "[CV]  max_depth=7, max_leaf_nodes=50, min_samples_leaf=1, score=0.030, total=   0.9s\n",
      "[CV] max_depth=7, max_leaf_nodes=50, min_samples_leaf=1 ..............\n",
      "[CV]  max_depth=7, max_leaf_nodes=50, min_samples_leaf=1, score=0.024, total=   0.9s\n",
      "[CV] max_depth=7, max_leaf_nodes=50, min_samples_leaf=3 ..............\n",
      "[CV]  max_depth=7, max_leaf_nodes=50, min_samples_leaf=3, score=0.026, total=   0.9s\n",
      "[CV] max_depth=7, max_leaf_nodes=50, min_samples_leaf=3 ..............\n",
      "[CV]  max_depth=7, max_leaf_nodes=50, min_samples_leaf=3, score=0.031, total=   0.9s\n",
      "[CV] max_depth=7, max_leaf_nodes=50, min_samples_leaf=3 ..............\n",
      "[CV]  max_depth=7, max_leaf_nodes=50, min_samples_leaf=3, score=0.027, total=   0.9s\n",
      "[CV] max_depth=7, max_leaf_nodes=50, min_samples_leaf=3 ..............\n",
      "[CV]  max_depth=7, max_leaf_nodes=50, min_samples_leaf=3, score=0.030, total=   0.9s\n",
      "[CV] max_depth=7, max_leaf_nodes=50, min_samples_leaf=3 ..............\n",
      "[CV]  max_depth=7, max_leaf_nodes=50, min_samples_leaf=3, score=0.024, total=   0.8s\n",
      "[CV] max_depth=7, max_leaf_nodes=50, min_samples_leaf=5 ..............\n",
      "[CV]  max_depth=7, max_leaf_nodes=50, min_samples_leaf=5, score=0.026, total=   0.9s\n",
      "[CV] max_depth=7, max_leaf_nodes=50, min_samples_leaf=5 ..............\n",
      "[CV]  max_depth=7, max_leaf_nodes=50, min_samples_leaf=5, score=0.031, total=   0.9s\n",
      "[CV] max_depth=7, max_leaf_nodes=50, min_samples_leaf=5 ..............\n",
      "[CV]  max_depth=7, max_leaf_nodes=50, min_samples_leaf=5, score=0.027, total=   0.9s\n",
      "[CV] max_depth=7, max_leaf_nodes=50, min_samples_leaf=5 ..............\n",
      "[CV]  max_depth=7, max_leaf_nodes=50, min_samples_leaf=5, score=0.030, total=   0.9s\n",
      "[CV] max_depth=7, max_leaf_nodes=50, min_samples_leaf=5 ..............\n",
      "[CV]  max_depth=7, max_leaf_nodes=50, min_samples_leaf=5, score=0.024, total=   0.9s\n",
      "[CV] max_depth=7, max_leaf_nodes=50, min_samples_leaf=7 ..............\n",
      "[CV]  max_depth=7, max_leaf_nodes=50, min_samples_leaf=7, score=0.026, total=   1.0s\n",
      "[CV] max_depth=7, max_leaf_nodes=50, min_samples_leaf=7 ..............\n",
      "[CV]  max_depth=7, max_leaf_nodes=50, min_samples_leaf=7, score=0.031, total=   1.2s\n",
      "[CV] max_depth=7, max_leaf_nodes=50, min_samples_leaf=7 ..............\n",
      "[CV]  max_depth=7, max_leaf_nodes=50, min_samples_leaf=7, score=0.027, total=   1.3s\n",
      "[CV] max_depth=7, max_leaf_nodes=50, min_samples_leaf=7 ..............\n",
      "[CV]  max_depth=7, max_leaf_nodes=50, min_samples_leaf=7, score=0.030, total=   1.3s\n",
      "[CV] max_depth=7, max_leaf_nodes=50, min_samples_leaf=7 ..............\n",
      "[CV]  max_depth=7, max_leaf_nodes=50, min_samples_leaf=7, score=0.024, total=   1.2s\n",
      "[CV] max_depth=7, max_leaf_nodes=55, min_samples_leaf=1 ..............\n",
      "[CV]  max_depth=7, max_leaf_nodes=55, min_samples_leaf=1, score=0.026, total=   1.1s\n",
      "[CV] max_depth=7, max_leaf_nodes=55, min_samples_leaf=1 ..............\n",
      "[CV]  max_depth=7, max_leaf_nodes=55, min_samples_leaf=1, score=0.031, total=   1.0s\n",
      "[CV] max_depth=7, max_leaf_nodes=55, min_samples_leaf=1 ..............\n",
      "[CV]  max_depth=7, max_leaf_nodes=55, min_samples_leaf=1, score=0.028, total=   1.2s\n",
      "[CV] max_depth=7, max_leaf_nodes=55, min_samples_leaf=1 ..............\n",
      "[CV]  max_depth=7, max_leaf_nodes=55, min_samples_leaf=1, score=0.030, total=   1.2s\n",
      "[CV] max_depth=7, max_leaf_nodes=55, min_samples_leaf=1 ..............\n",
      "[CV]  max_depth=7, max_leaf_nodes=55, min_samples_leaf=1, score=0.023, total=   0.9s\n",
      "[CV] max_depth=7, max_leaf_nodes=55, min_samples_leaf=3 ..............\n",
      "[CV]  max_depth=7, max_leaf_nodes=55, min_samples_leaf=3, score=0.026, total=   0.9s\n",
      "[CV] max_depth=7, max_leaf_nodes=55, min_samples_leaf=3 ..............\n",
      "[CV]  max_depth=7, max_leaf_nodes=55, min_samples_leaf=3, score=0.031, total=   0.9s\n",
      "[CV] max_depth=7, max_leaf_nodes=55, min_samples_leaf=3 ..............\n",
      "[CV]  max_depth=7, max_leaf_nodes=55, min_samples_leaf=3, score=0.028, total=   0.9s\n",
      "[CV] max_depth=7, max_leaf_nodes=55, min_samples_leaf=3 ..............\n",
      "[CV]  max_depth=7, max_leaf_nodes=55, min_samples_leaf=3, score=0.030, total=   0.9s\n",
      "[CV] max_depth=7, max_leaf_nodes=55, min_samples_leaf=3 ..............\n",
      "[CV]  max_depth=7, max_leaf_nodes=55, min_samples_leaf=3, score=0.023, total=   0.9s\n",
      "[CV] max_depth=7, max_leaf_nodes=55, min_samples_leaf=5 ..............\n",
      "[CV]  max_depth=7, max_leaf_nodes=55, min_samples_leaf=5, score=0.026, total=   0.9s\n",
      "[CV] max_depth=7, max_leaf_nodes=55, min_samples_leaf=5 ..............\n",
      "[CV]  max_depth=7, max_leaf_nodes=55, min_samples_leaf=5, score=0.031, total=   0.9s\n",
      "[CV] max_depth=7, max_leaf_nodes=55, min_samples_leaf=5 ..............\n",
      "[CV]  max_depth=7, max_leaf_nodes=55, min_samples_leaf=5, score=0.028, total=   0.9s\n",
      "[CV] max_depth=7, max_leaf_nodes=55, min_samples_leaf=5 ..............\n",
      "[CV]  max_depth=7, max_leaf_nodes=55, min_samples_leaf=5, score=0.030, total=   0.9s\n",
      "[CV] max_depth=7, max_leaf_nodes=55, min_samples_leaf=5 ..............\n",
      "[CV]  max_depth=7, max_leaf_nodes=55, min_samples_leaf=5, score=0.023, total=   0.9s\n",
      "[CV] max_depth=7, max_leaf_nodes=55, min_samples_leaf=7 ..............\n",
      "[CV]  max_depth=7, max_leaf_nodes=55, min_samples_leaf=7, score=0.026, total=   0.9s\n",
      "[CV] max_depth=7, max_leaf_nodes=55, min_samples_leaf=7 ..............\n",
      "[CV]  max_depth=7, max_leaf_nodes=55, min_samples_leaf=7, score=0.031, total=   1.1s\n",
      "[CV] max_depth=7, max_leaf_nodes=55, min_samples_leaf=7 ..............\n",
      "[CV]  max_depth=7, max_leaf_nodes=55, min_samples_leaf=7, score=0.027, total=   1.2s\n",
      "[CV] max_depth=7, max_leaf_nodes=55, min_samples_leaf=7 ..............\n",
      "[CV]  max_depth=7, max_leaf_nodes=55, min_samples_leaf=7, score=0.030, total=   1.3s\n",
      "[CV] max_depth=7, max_leaf_nodes=55, min_samples_leaf=7 ..............\n",
      "[CV]  max_depth=7, max_leaf_nodes=55, min_samples_leaf=7, score=0.024, total=   1.2s\n",
      "[CV] max_depth=7, max_leaf_nodes=60, min_samples_leaf=1 ..............\n",
      "[CV]  max_depth=7, max_leaf_nodes=60, min_samples_leaf=1, score=0.025, total=   1.3s\n",
      "[CV] max_depth=7, max_leaf_nodes=60, min_samples_leaf=1 ..............\n",
      "[CV]  max_depth=7, max_leaf_nodes=60, min_samples_leaf=1, score=0.032, total=   1.3s\n",
      "[CV] max_depth=7, max_leaf_nodes=60, min_samples_leaf=1 ..............\n",
      "[CV]  max_depth=7, max_leaf_nodes=60, min_samples_leaf=1, score=0.028, total=   1.3s\n",
      "[CV] max_depth=7, max_leaf_nodes=60, min_samples_leaf=1 ..............\n",
      "[CV]  max_depth=7, max_leaf_nodes=60, min_samples_leaf=1, score=0.030, total=   1.2s\n",
      "[CV] max_depth=7, max_leaf_nodes=60, min_samples_leaf=1 ..............\n",
      "[CV]  max_depth=7, max_leaf_nodes=60, min_samples_leaf=1, score=0.024, total=   1.3s\n",
      "[CV] max_depth=7, max_leaf_nodes=60, min_samples_leaf=3 ..............\n",
      "[CV]  max_depth=7, max_leaf_nodes=60, min_samples_leaf=3, score=0.025, total=   1.3s\n",
      "[CV] max_depth=7, max_leaf_nodes=60, min_samples_leaf=3 ..............\n",
      "[CV]  max_depth=7, max_leaf_nodes=60, min_samples_leaf=3, score=0.032, total=   1.2s\n",
      "[CV] max_depth=7, max_leaf_nodes=60, min_samples_leaf=3 ..............\n",
      "[CV]  max_depth=7, max_leaf_nodes=60, min_samples_leaf=3, score=0.028, total=   1.4s\n",
      "[CV] max_depth=7, max_leaf_nodes=60, min_samples_leaf=3 ..............\n",
      "[CV]  max_depth=7, max_leaf_nodes=60, min_samples_leaf=3, score=0.030, total=   1.5s\n",
      "[CV] max_depth=7, max_leaf_nodes=60, min_samples_leaf=3 ..............\n",
      "[CV]  max_depth=7, max_leaf_nodes=60, min_samples_leaf=3, score=0.024, total=   1.3s\n",
      "[CV] max_depth=7, max_leaf_nodes=60, min_samples_leaf=5 ..............\n",
      "[CV]  max_depth=7, max_leaf_nodes=60, min_samples_leaf=5, score=0.025, total=   1.5s\n",
      "[CV] max_depth=7, max_leaf_nodes=60, min_samples_leaf=5 ..............\n",
      "[CV]  max_depth=7, max_leaf_nodes=60, min_samples_leaf=5, score=0.032, total=   1.4s\n",
      "[CV] max_depth=7, max_leaf_nodes=60, min_samples_leaf=5 ..............\n",
      "[CV]  max_depth=7, max_leaf_nodes=60, min_samples_leaf=5, score=0.028, total=   1.4s\n",
      "[CV] max_depth=7, max_leaf_nodes=60, min_samples_leaf=5 ..............\n",
      "[CV]  max_depth=7, max_leaf_nodes=60, min_samples_leaf=5, score=0.030, total=   1.4s\n",
      "[CV] max_depth=7, max_leaf_nodes=60, min_samples_leaf=5 ..............\n"
     ]
    },
    {
     "name": "stdout",
     "output_type": "stream",
     "text": [
      "[CV]  max_depth=7, max_leaf_nodes=60, min_samples_leaf=5, score=0.024, total=   1.3s\n",
      "[CV] max_depth=7, max_leaf_nodes=60, min_samples_leaf=7 ..............\n",
      "[CV]  max_depth=7, max_leaf_nodes=60, min_samples_leaf=7, score=0.025, total=   1.3s\n",
      "[CV] max_depth=7, max_leaf_nodes=60, min_samples_leaf=7 ..............\n",
      "[CV]  max_depth=7, max_leaf_nodes=60, min_samples_leaf=7, score=0.032, total=   1.3s\n",
      "[CV] max_depth=7, max_leaf_nodes=60, min_samples_leaf=7 ..............\n",
      "[CV]  max_depth=7, max_leaf_nodes=60, min_samples_leaf=7, score=0.028, total=   1.3s\n",
      "[CV] max_depth=7, max_leaf_nodes=60, min_samples_leaf=7 ..............\n",
      "[CV]  max_depth=7, max_leaf_nodes=60, min_samples_leaf=7, score=0.029, total=   1.2s\n",
      "[CV] max_depth=7, max_leaf_nodes=60, min_samples_leaf=7 ..............\n",
      "[CV]  max_depth=7, max_leaf_nodes=60, min_samples_leaf=7, score=0.024, total=   1.3s\n",
      "[CV] max_depth=7, max_leaf_nodes=65, min_samples_leaf=1 ..............\n",
      "[CV]  max_depth=7, max_leaf_nodes=65, min_samples_leaf=1, score=0.025, total=   1.3s\n",
      "[CV] max_depth=7, max_leaf_nodes=65, min_samples_leaf=1 ..............\n",
      "[CV]  max_depth=7, max_leaf_nodes=65, min_samples_leaf=1, score=0.030, total=   1.2s\n",
      "[CV] max_depth=7, max_leaf_nodes=65, min_samples_leaf=1 ..............\n",
      "[CV]  max_depth=7, max_leaf_nodes=65, min_samples_leaf=1, score=0.029, total=   1.2s\n",
      "[CV] max_depth=7, max_leaf_nodes=65, min_samples_leaf=1 ..............\n",
      "[CV]  max_depth=7, max_leaf_nodes=65, min_samples_leaf=1, score=0.029, total=   1.2s\n",
      "[CV] max_depth=7, max_leaf_nodes=65, min_samples_leaf=1 ..............\n",
      "[CV]  max_depth=7, max_leaf_nodes=65, min_samples_leaf=1, score=0.024, total=   1.2s\n",
      "[CV] max_depth=7, max_leaf_nodes=65, min_samples_leaf=3 ..............\n",
      "[CV]  max_depth=7, max_leaf_nodes=65, min_samples_leaf=3, score=0.025, total=   1.0s\n",
      "[CV] max_depth=7, max_leaf_nodes=65, min_samples_leaf=3 ..............\n",
      "[CV]  max_depth=7, max_leaf_nodes=65, min_samples_leaf=3, score=0.031, total=   1.1s\n",
      "[CV] max_depth=7, max_leaf_nodes=65, min_samples_leaf=3 ..............\n",
      "[CV]  max_depth=7, max_leaf_nodes=65, min_samples_leaf=3, score=0.029, total=   1.0s\n",
      "[CV] max_depth=7, max_leaf_nodes=65, min_samples_leaf=3 ..............\n",
      "[CV]  max_depth=7, max_leaf_nodes=65, min_samples_leaf=3, score=0.029, total=   0.9s\n",
      "[CV] max_depth=7, max_leaf_nodes=65, min_samples_leaf=3 ..............\n",
      "[CV]  max_depth=7, max_leaf_nodes=65, min_samples_leaf=3, score=0.024, total=   1.0s\n",
      "[CV] max_depth=7, max_leaf_nodes=65, min_samples_leaf=5 ..............\n",
      "[CV]  max_depth=7, max_leaf_nodes=65, min_samples_leaf=5, score=0.025, total=   0.9s\n",
      "[CV] max_depth=7, max_leaf_nodes=65, min_samples_leaf=5 ..............\n",
      "[CV]  max_depth=7, max_leaf_nodes=65, min_samples_leaf=5, score=0.031, total=   0.9s\n",
      "[CV] max_depth=7, max_leaf_nodes=65, min_samples_leaf=5 ..............\n",
      "[CV]  max_depth=7, max_leaf_nodes=65, min_samples_leaf=5, score=0.029, total=   0.9s\n",
      "[CV] max_depth=7, max_leaf_nodes=65, min_samples_leaf=5 ..............\n",
      "[CV]  max_depth=7, max_leaf_nodes=65, min_samples_leaf=5, score=0.029, total=   1.0s\n",
      "[CV] max_depth=7, max_leaf_nodes=65, min_samples_leaf=5 ..............\n",
      "[CV]  max_depth=7, max_leaf_nodes=65, min_samples_leaf=5, score=0.024, total=   1.0s\n",
      "[CV] max_depth=7, max_leaf_nodes=65, min_samples_leaf=7 ..............\n",
      "[CV]  max_depth=7, max_leaf_nodes=65, min_samples_leaf=7, score=0.024, total=   1.4s\n",
      "[CV] max_depth=7, max_leaf_nodes=65, min_samples_leaf=7 ..............\n",
      "[CV]  max_depth=7, max_leaf_nodes=65, min_samples_leaf=7, score=0.031, total=   1.4s\n",
      "[CV] max_depth=7, max_leaf_nodes=65, min_samples_leaf=7 ..............\n",
      "[CV]  max_depth=7, max_leaf_nodes=65, min_samples_leaf=7, score=0.029, total=   1.5s\n",
      "[CV] max_depth=7, max_leaf_nodes=65, min_samples_leaf=7 ..............\n",
      "[CV]  max_depth=7, max_leaf_nodes=65, min_samples_leaf=7, score=0.029, total=   1.5s\n",
      "[CV] max_depth=7, max_leaf_nodes=65, min_samples_leaf=7 ..............\n",
      "[CV]  max_depth=7, max_leaf_nodes=65, min_samples_leaf=7, score=0.024, total=   1.2s\n"
     ]
    },
    {
     "name": "stderr",
     "output_type": "stream",
     "text": [
      "[Parallel(n_jobs=1)]: Done 300 out of 300 | elapsed: 15.2min finished\n"
     ]
    },
    {
     "name": "stdout",
     "output_type": "stream",
     "text": [
      "Best: 0.027807813819311834, using {'max_depth': 7, 'max_leaf_nodes': 45, 'min_samples_leaf': 1}\n",
      "0.023008003620703477 (0.0029255452303050856) with: {'max_depth': 5, 'max_leaf_nodes': 45, 'min_samples_leaf': 1}\n",
      "0.022921644314646848 (0.003269861390156426) with: {'max_depth': 5, 'max_leaf_nodes': 45, 'min_samples_leaf': 3}\n",
      "0.022970410534562856 (0.0032762169293469885) with: {'max_depth': 5, 'max_leaf_nodes': 45, 'min_samples_leaf': 5}\n",
      "0.02309393872372112 (0.002972973845756317) with: {'max_depth': 5, 'max_leaf_nodes': 45, 'min_samples_leaf': 7}\n",
      "0.022997183165489134 (0.002918225431232607) with: {'max_depth': 5, 'max_leaf_nodes': 50, 'min_samples_leaf': 1}\n",
      "0.022973257077700503 (0.003202008041643053) with: {'max_depth': 5, 'max_leaf_nodes': 50, 'min_samples_leaf': 3}\n",
      "0.022970410534562724 (0.003276216929347112) with: {'max_depth': 5, 'max_leaf_nodes': 50, 'min_samples_leaf': 5}\n",
      "0.02309393872372083 (0.00297297384575676) with: {'max_depth': 5, 'max_leaf_nodes': 50, 'min_samples_leaf': 7}\n",
      "0.02299718316548891 (0.002918225431232657) with: {'max_depth': 5, 'max_leaf_nodes': 55, 'min_samples_leaf': 1}\n",
      "0.022921644314647095 (0.0032698613901563857) with: {'max_depth': 5, 'max_leaf_nodes': 55, 'min_samples_leaf': 3}\n",
      "0.022970410534562814 (0.0032762169293470483) with: {'max_depth': 5, 'max_leaf_nodes': 55, 'min_samples_leaf': 5}\n",
      "0.023093938723720963 (0.0029729738457565276) with: {'max_depth': 5, 'max_leaf_nodes': 55, 'min_samples_leaf': 7}\n",
      "0.023008003620703432 (0.00292554523030544) with: {'max_depth': 5, 'max_leaf_nodes': 60, 'min_samples_leaf': 1}\n",
      "0.022921644314647115 (0.0032698613901561173) with: {'max_depth': 5, 'max_leaf_nodes': 60, 'min_samples_leaf': 3}\n",
      "0.022970410534563036 (0.003276216929347021) with: {'max_depth': 5, 'max_leaf_nodes': 60, 'min_samples_leaf': 5}\n",
      "0.023093938723720987 (0.002972973845756617) with: {'max_depth': 5, 'max_leaf_nodes': 60, 'min_samples_leaf': 7}\n",
      "0.022997183165488887 (0.0029182254312324148) with: {'max_depth': 5, 'max_leaf_nodes': 65, 'min_samples_leaf': 1}\n",
      "0.02292164431464703 (0.0032698613901563952) with: {'max_depth': 5, 'max_leaf_nodes': 65, 'min_samples_leaf': 3}\n",
      "0.02297041053456279 (0.0032762169293473076) with: {'max_depth': 5, 'max_leaf_nodes': 65, 'min_samples_leaf': 5}\n",
      "0.02309393872372061 (0.002972973845756636) with: {'max_depth': 5, 'max_leaf_nodes': 65, 'min_samples_leaf': 7}\n",
      "0.02593882115294375 (0.0025300987617223026) with: {'max_depth': 6, 'max_leaf_nodes': 45, 'min_samples_leaf': 1}\n",
      "0.026082042421688434 (0.0027927519154601027) with: {'max_depth': 6, 'max_leaf_nodes': 45, 'min_samples_leaf': 3}\n",
      "0.02636180977308473 (0.002612831587288109) with: {'max_depth': 6, 'max_leaf_nodes': 45, 'min_samples_leaf': 5}\n",
      "0.02633212229216648 (0.002536737625696809) with: {'max_depth': 6, 'max_leaf_nodes': 45, 'min_samples_leaf': 7}\n",
      "0.02566128754020087 (0.0021341213550028527) with: {'max_depth': 6, 'max_leaf_nodes': 50, 'min_samples_leaf': 1}\n",
      "0.025833701195798687 (0.002522945865307159) with: {'max_depth': 6, 'max_leaf_nodes': 50, 'min_samples_leaf': 3}\n",
      "0.02599586991562386 (0.002594499567789381) with: {'max_depth': 6, 'max_leaf_nodes': 50, 'min_samples_leaf': 5}\n",
      "0.026037959927843836 (0.002521811601148689) with: {'max_depth': 6, 'max_leaf_nodes': 50, 'min_samples_leaf': 7}\n",
      "0.0252792882509288 (0.002316965459056766) with: {'max_depth': 6, 'max_leaf_nodes': 55, 'min_samples_leaf': 1}\n",
      "0.025213072940319204 (0.00276934947079939) with: {'max_depth': 6, 'max_leaf_nodes': 55, 'min_samples_leaf': 3}\n",
      "0.025387120107375715 (0.002990324597406167) with: {'max_depth': 6, 'max_leaf_nodes': 55, 'min_samples_leaf': 5}\n",
      "0.025605833471758266 (0.0026763800576027775) with: {'max_depth': 6, 'max_leaf_nodes': 55, 'min_samples_leaf': 7}\n",
      "0.025184843988620375 (0.002158224806882893) with: {'max_depth': 6, 'max_leaf_nodes': 60, 'min_samples_leaf': 1}\n",
      "0.024921195559537136 (0.002710334293561897) with: {'max_depth': 6, 'max_leaf_nodes': 60, 'min_samples_leaf': 3}\n",
      "0.025225956431201114 (0.0028746524557217734) with: {'max_depth': 6, 'max_leaf_nodes': 60, 'min_samples_leaf': 5}\n",
      "0.025418941397736972 (0.002598214740085391) with: {'max_depth': 6, 'max_leaf_nodes': 60, 'min_samples_leaf': 7}\n",
      "0.025251307548785507 (0.0022072434096156884) with: {'max_depth': 6, 'max_leaf_nodes': 65, 'min_samples_leaf': 1}\n",
      "0.0248767887878792 (0.002726802869380898) with: {'max_depth': 6, 'max_leaf_nodes': 65, 'min_samples_leaf': 3}\n",
      "0.025218871204964112 (0.002883563328047796) with: {'max_depth': 6, 'max_leaf_nodes': 65, 'min_samples_leaf': 5}\n",
      "0.025418941397736972 (0.002598214740085196) with: {'max_depth': 6, 'max_leaf_nodes': 65, 'min_samples_leaf': 7}\n",
      "0.027807813819311834 (0.002497866270153308) with: {'max_depth': 7, 'max_leaf_nodes': 45, 'min_samples_leaf': 1}\n",
      "0.027807813819311345 (0.0024978662701535927) with: {'max_depth': 7, 'max_leaf_nodes': 45, 'min_samples_leaf': 3}\n",
      "0.027807813819311834 (0.002497866270153476) with: {'max_depth': 7, 'max_leaf_nodes': 45, 'min_samples_leaf': 5}\n",
      "0.027746954705719064 (0.0024911309086914496) with: {'max_depth': 7, 'max_leaf_nodes': 45, 'min_samples_leaf': 7}\n",
      "0.027682542806661624 (0.0025339497400090234) with: {'max_depth': 7, 'max_leaf_nodes': 50, 'min_samples_leaf': 1}\n",
      "0.02768254280666129 (0.0025339497400089887) with: {'max_depth': 7, 'max_leaf_nodes': 50, 'min_samples_leaf': 3}\n",
      "0.02768254280666167 (0.002533949740008983) with: {'max_depth': 7, 'max_leaf_nodes': 50, 'min_samples_leaf': 5}\n",
      "0.02758697032622206 (0.0025761025339136215) with: {'max_depth': 7, 'max_leaf_nodes': 50, 'min_samples_leaf': 7}\n",
      "0.027554297758281242 (0.0027010887442591907) with: {'max_depth': 7, 'max_leaf_nodes': 55, 'min_samples_leaf': 1}\n",
      "0.027554297758281464 (0.002701088744258934) with: {'max_depth': 7, 'max_leaf_nodes': 55, 'min_samples_leaf': 3}\n",
      "0.027554297758281353 (0.0027010887442591946) with: {'max_depth': 7, 'max_leaf_nodes': 55, 'min_samples_leaf': 5}\n",
      "0.02747083124677785 (0.0026654277281523077) with: {'max_depth': 7, 'max_leaf_nodes': 55, 'min_samples_leaf': 7}\n",
      "0.02773875010121505 (0.0027971955794596983) with: {'max_depth': 7, 'max_leaf_nodes': 60, 'min_samples_leaf': 1}\n",
      "0.027738750101215227 (0.0027971955794594216) with: {'max_depth': 7, 'max_leaf_nodes': 60, 'min_samples_leaf': 3}\n",
      "0.027738750101215005 (0.0027971955794596193) with: {'max_depth': 7, 'max_leaf_nodes': 60, 'min_samples_leaf': 5}\n",
      "0.027575197253014272 (0.002689789680792725) with: {'max_depth': 7, 'max_leaf_nodes': 60, 'min_samples_leaf': 7}\n",
      "0.027488484205073993 (0.002754535102189509) with: {'max_depth': 7, 'max_leaf_nodes': 65, 'min_samples_leaf': 1}\n",
      "0.027699023895393405 (0.0029992775205008155) with: {'max_depth': 7, 'max_leaf_nodes': 65, 'min_samples_leaf': 3}\n",
      "0.027729135644854953 (0.00296014501835953) with: {'max_depth': 7, 'max_leaf_nodes': 65, 'min_samples_leaf': 5}\n",
      "0.027708259151127825 (0.0028500298500318566) with: {'max_depth': 7, 'max_leaf_nodes': 65, 'min_samples_leaf': 7}\n"
     ]
    }
   ],
   "source": [
    "# Define the parameters that you wish to use in your Grid Search along\n",
    "# with the list of values that you wish to try out\n",
    "max_depth = [5, 6, 7]\n",
    "max_leaf_nodes = [45, 50, 55, 60, 65]\n",
    "min_samples_leaf = [1, 3, 5, 7]\n",
    "\n",
    "seed = 42\n",
    "\n",
    "# Make a dictionary of the grid search parameters\n",
    "param_grid = dict(max_depth=max_depth, max_leaf_nodes=max_leaf_nodes, min_samples_leaf=min_samples_leaf)\n",
    "\n",
    "# Build and fit the GridSearchCV\n",
    "grid = GridSearchCV(estimator=treeReg, param_grid=param_grid,\n",
    "                    cv=KFold(random_state=seed), verbose=10)\n",
    "\n",
    "grid_results = grid.fit(X_test, y_test)\n",
    "\n",
    "# Summarize the results in a readable format\n",
    "print(\"Best: {0}, using {1}\".format(grid_results.best_score_, grid_results.best_params_))\n",
    "\n",
    "means = grid_results.cv_results_['mean_test_score']\n",
    "stds = grid_results.cv_results_['std_test_score']\n",
    "params = grid_results.cv_results_['params']\n",
    "\n",
    "for mean, stdev, param in zip(means, stds, params):\n",
    "    print('{0} ({1}) with: {2}'.format(mean, stdev, param))"
   ]
  },
  {
   "cell_type": "code",
   "execution_count": 69,
   "metadata": {},
   "outputs": [
    {
     "data": {
      "text/plain": [
       "array([0.09983128, 0.17435371, 0.19318223, 0.1207041 , 0.        ,\n",
       "       0.01799367, 0.10868486, 0.01422334, 0.03925099, 0.05154262,\n",
       "       0.02449738, 0.03180474, 0.12065418, 0.00327689])"
      ]
     },
     "execution_count": 69,
     "metadata": {},
     "output_type": "execute_result"
    }
   ],
   "source": [
    "treeReg.feature_importances_"
   ]
  },
  {
   "cell_type": "code",
   "execution_count": 82,
   "metadata": {},
   "outputs": [
    {
     "data": {
      "text/plain": [
       "64"
      ]
     },
     "execution_count": 82,
     "metadata": {},
     "output_type": "execute_result"
    }
   ],
   "source": [
    "treeReg.get_n_leaves()"
   ]
  },
  {
   "cell_type": "code",
   "execution_count": 81,
   "metadata": {},
   "outputs": [
    {
     "data": {
      "text/plain": [
       "{'ccp_alpha': 0.0,\n",
       " 'criterion': 'mse',\n",
       " 'max_depth': 6,\n",
       " 'max_features': None,\n",
       " 'max_leaf_nodes': None,\n",
       " 'min_impurity_decrease': 0.0,\n",
       " 'min_impurity_split': None,\n",
       " 'min_samples_leaf': 1,\n",
       " 'min_samples_split': 2,\n",
       " 'min_weight_fraction_leaf': 0.0,\n",
       " 'presort': 'deprecated',\n",
       " 'random_state': None,\n",
       " 'splitter': 'best'}"
      ]
     },
     "execution_count": 81,
     "metadata": {},
     "output_type": "execute_result"
    }
   ],
   "source": [
    "treeReg.get_params()"
   ]
  },
  {
   "cell_type": "code",
   "execution_count": 85,
   "metadata": {},
   "outputs": [
    {
     "data": {
      "text/plain": [
       "0.7225993137256639"
      ]
     },
     "execution_count": 85,
     "metadata": {},
     "output_type": "execute_result"
    }
   ],
   "source": [
    "# DT model after grid search\n",
    "\n",
    "treeReg_dt = DecisionTreeRegressor(max_depth=6, max_leaf_nodes = 45).fit(X_train, y_train)\n",
    "predicted_labels = treeReg.predict(X_test)\n",
    "\n",
    "treeReg.score(X_test, y_test)\n",
    "score = np.sqrt(mean_squared_error(y_test, predicted_labels))\n",
    "score"
   ]
  },
  {
   "cell_type": "code",
   "execution_count": 86,
   "metadata": {},
   "outputs": [
    {
     "data": {
      "text/plain": [
       "0.7225993137256639"
      ]
     },
     "execution_count": 86,
     "metadata": {},
     "output_type": "execute_result"
    }
   ],
   "source": [
    "# DT model after grid search\n",
    "\n",
    "treeReg_dt = DecisionTreeRegressor(max_depth=7, max_leaf_nodes = 45).fit(X_train, y_train)\n",
    "predicted_labels = treeReg.predict(X_test)\n",
    "\n",
    "treeReg.score(X_test, y_test)\n",
    "score = np.sqrt(mean_squared_error(y_test, predicted_labels))\n",
    "score"
   ]
  },
  {
   "cell_type": "code",
   "execution_count": 87,
   "metadata": {},
   "outputs": [],
   "source": [
    "#Predict test data \n",
    "pred_test = treeReg_dt.predict(test_df2)"
   ]
  },
  {
   "cell_type": "markdown",
   "metadata": {},
   "source": [
    "### Random forest"
   ]
  },
  {
   "cell_type": "code",
   "execution_count": 91,
   "metadata": {},
   "outputs": [],
   "source": [
    "from sklearn.ensemble import RandomForestRegressor"
   ]
  },
  {
   "cell_type": "code",
   "execution_count": 93,
   "metadata": {},
   "outputs": [
    {
     "name": "stdout",
     "output_type": "stream",
     "text": [
      "Wall time: 2min 58s\n"
     ]
    },
    {
     "data": {
      "text/plain": [
       "RandomForestRegressor(max_depth=6, random_state=2)"
      ]
     },
     "execution_count": 93,
     "metadata": {},
     "output_type": "execute_result"
    }
   ],
   "source": [
    "%%time\n",
    "\n",
    "forestReg = RandomForestRegressor(n_estimators=100, random_state=2, max_depth = 6)\n",
    "forestReg.fit(X_train, y_train)"
   ]
  },
  {
   "cell_type": "code",
   "execution_count": 95,
   "metadata": {},
   "outputs": [
    {
     "data": {
      "text/plain": [
       "0.7195144226816382"
      ]
     },
     "execution_count": 95,
     "metadata": {},
     "output_type": "execute_result"
    }
   ],
   "source": [
    "predicted_labels = forestReg.predict(X_test)\n",
    "forestReg.score(X_test, y_test)\n",
    "score = np.sqrt(mean_squared_error(y_test, predicted_labels))\n",
    "score"
   ]
  },
  {
   "cell_type": "code",
   "execution_count": 100,
   "metadata": {},
   "outputs": [],
   "source": [
    "#Predict test data \n",
    "pred_test = forestReg.predict(test_df2)"
   ]
  },
  {
   "cell_type": "code",
   "execution_count": 101,
   "metadata": {},
   "outputs": [],
   "source": [
    "submission = test_df[['id']].copy()\n",
    "submission['target'] = pred_test\n",
    "\n",
    "submission.to_csv(\"submission.csv\", index=False)"
   ]
  },
  {
   "cell_type": "code",
   "execution_count": 99,
   "metadata": {},
   "outputs": [
    {
     "name": "stdout",
     "output_type": "stream",
     "text": [
      "Wall time: 18min 29s\n"
     ]
    },
    {
     "data": {
      "text/plain": [
       "0.7172348075353845"
      ]
     },
     "execution_count": 99,
     "metadata": {},
     "output_type": "execute_result"
    }
   ],
   "source": [
    "%%time\n",
    "\n",
    "forestReg = RandomForestRegressor(n_estimators=500, random_state=2, max_depth = 7)\n",
    "forestReg.fit(X_train, y_train)\n",
    "\n",
    "predicted_labels = forestReg.predict(X_test)\n",
    "forestReg.score(X_test, y_test)\n",
    "score = np.sqrt(mean_squared_error(y_test, predicted_labels))\n",
    "score"
   ]
  },
  {
   "cell_type": "markdown",
   "metadata": {},
   "source": [
    "### XGBoost"
   ]
  },
  {
   "cell_type": "code",
   "execution_count": 1,
   "metadata": {},
   "outputs": [
    {
     "name": "stdout",
     "output_type": "stream",
     "text": [
      "Collecting xgboost\n",
      "  Downloading xgboost-1.3.1-py3-none-win_amd64.whl (95.2 MB)\n",
      "Requirement already satisfied: numpy in c:\\users\\abysm\\anaconda3\\lib\\site-packages (from xgboost) (1.19.2)\n",
      "Requirement already satisfied: scipy in c:\\users\\abysm\\anaconda3\\lib\\site-packages (from xgboost) (1.5.2)\n",
      "Installing collected packages: xgboost\n",
      "Successfully installed xgboost-1.3.1\n"
     ]
    }
   ],
   "source": [
    "!pip install xgboost"
   ]
  },
  {
   "cell_type": "code",
   "execution_count": 18,
   "metadata": {},
   "outputs": [],
   "source": [
    "import xgboost as xgb"
   ]
  },
  {
   "cell_type": "code",
   "execution_count": 10,
   "metadata": {},
   "outputs": [],
   "source": [
    "dtrain = xgb.DMatrix(X_train, label=y_train)\n",
    "dtest = xgb.DMatrix(X_test, label=y_test)"
   ]
  },
  {
   "cell_type": "code",
   "execution_count": 27,
   "metadata": {},
   "outputs": [
    {
     "name": "stdout",
     "output_type": "stream",
     "text": [
      "[19:25:39] WARNING: C:/Users/Administrator/workspace/xgboost-win64_release_1.3.0/src/objective/regression_obj.cu:170: reg:linear is now deprecated in favor of reg:squarederror.\n",
      "Wall time: 48.5 s\n"
     ]
    },
    {
     "data": {
      "text/plain": [
       "XGBRegressor(alpha=10, base_score=0.5, booster='gbtree', colsample_bylevel=1,\n",
       "             colsample_bynode=1, colsample_bytree=0.3, gamma=0, gpu_id=-1,\n",
       "             importance_type='gain', interaction_constraints='',\n",
       "             learning_rate=0.1, max_delta_step=0, max_depth=5,\n",
       "             min_child_weight=1, missing=nan, monotone_constraints='()',\n",
       "             n_estimators=300, n_jobs=8, num_parallel_tree=1,\n",
       "             objective='reg:linear', random_state=0, reg_alpha=10, reg_lambda=1,\n",
       "             scale_pos_weight=1, subsample=1, tree_method='exact',\n",
       "             validate_parameters=1, verbosity=None)"
      ]
     },
     "execution_count": 27,
     "metadata": {},
     "output_type": "execute_result"
    }
   ],
   "source": [
    "%%time\n",
    "\n",
    "xg_reg = xgb.XGBRegressor(objective ='reg:linear', colsample_bytree = 0.3, learning_rate = 0.1,\n",
    "                max_depth = 5, alpha = 10, n_estimators = 300)\n",
    "\n",
    "xg_reg.fit(X_train,y_train)"
   ]
  },
  {
   "cell_type": "code",
   "execution_count": 46,
   "metadata": {},
   "outputs": [
    {
     "name": "stdout",
     "output_type": "stream",
     "text": [
      "Validation score: 0.698279\n",
      "Validation score: 0.706501\n"
     ]
    }
   ],
   "source": [
    "train_pred = xg_reg.predict(X_train)\n",
    "#xg_reg.score(X_train, y_train)\n",
    "score1 = np.sqrt(mean_squared_error(y_train, train_pred))\n",
    "print(\"Validation score:\", round(score1,6))\n",
    "\n",
    "predicted_labels = xg_reg.predict(X_test)\n",
    "#xg_reg.score(X_test, y_test)\n",
    "score2 = np.sqrt(mean_squared_error(y_test, predicted_labels))\n",
    "print(\"Validation score:\", round(score2,6))"
   ]
  },
  {
   "cell_type": "code",
   "execution_count": 102,
   "metadata": {},
   "outputs": [],
   "source": [
    "#Predict test data \n",
    "pred_test = xg_reg.predict(test_df2)"
   ]
  },
  {
   "cell_type": "code",
   "execution_count": 103,
   "metadata": {},
   "outputs": [],
   "source": [
    "submission = test_df[['id']].copy()\n",
    "submission['target'] = pred_test\n",
    "\n",
    "submission.to_csv(\"submission.csv\", index=False)"
   ]
  },
  {
   "cell_type": "code",
   "execution_count": 100,
   "metadata": {},
   "outputs": [
    {
     "name": "stdout",
     "output_type": "stream",
     "text": [
      "[23:36:27] WARNING: C:/Users/Administrator/workspace/xgboost-win64_release_1.3.0/src/objective/regression_obj.cu:170: reg:linear is now deprecated in favor of reg:squarederror.\n",
      "Wall time: 3min 23s\n"
     ]
    },
    {
     "data": {
      "text/plain": [
       "XGBRegressor(alpha=10, base_score=0.5, booster='gbtree', colsample_bylevel=1,\n",
       "             colsample_bynode=1, colsample_bytree=0.3, gamma=0, gpu_id=-1,\n",
       "             importance_type='gain', interaction_constraints='',\n",
       "             learning_rate=0.05, max_delta_step=0, max_depth=4,\n",
       "             min_child_weight=1, missing=nan, monotone_constraints='()',\n",
       "             n_estimators=1500, n_jobs=8, num_parallel_tree=1,\n",
       "             objective='reg:linear', random_state=0, reg_alpha=10, reg_lambda=1,\n",
       "             scale_pos_weight=1, subsample=1, tree_method='exact',\n",
       "             validate_parameters=1, verbosity=None)"
      ]
     },
     "execution_count": 100,
     "metadata": {},
     "output_type": "execute_result"
    }
   ],
   "source": [
    "%%time\n",
    "\n",
    "xg_reg = xgb.XGBRegressor(objective ='reg:linear', colsample_bytree = 0.3, learning_rate = 0.05,\n",
    "                max_depth = 4, alpha = 10, n_estimators = 1500)\n",
    "\n",
    "xg_reg.fit(X_train,y_train)"
   ]
  },
  {
   "cell_type": "code",
   "execution_count": 101,
   "metadata": {},
   "outputs": [
    {
     "name": "stdout",
     "output_type": "stream",
     "text": [
      "Training score: 0.684135\n",
      "Validation score: 0.701745\n"
     ]
    }
   ],
   "source": [
    "train_pred = xg_reg.predict(X_train)\n",
    "score1 = np.sqrt(mean_squared_error(y_train, train_pred))\n",
    "print(\"Training score:\", round(score1,6))\n",
    "\n",
    "predicted_labels = xg_reg.predict(X_test)\n",
    "score2 = np.sqrt(mean_squared_error(y_test, predicted_labels))\n",
    "print(\"Validation score:\", round(score2,6))"
   ]
  },
  {
   "cell_type": "code",
   "execution_count": 99,
   "metadata": {},
   "outputs": [
    {
     "name": "stdout",
     "output_type": "stream",
     "text": [
      "Fitting 5 folds for each of 5 candidates, totalling 25 fits\n",
      "[CV] n_estimators=1500 ...............................................\n",
      "[22:17:39] WARNING: C:/Users/Administrator/workspace/xgboost-win64_release_1.3.0/src/objective/regression_obj.cu:170: reg:linear is now deprecated in favor of reg:squarederror.\n"
     ]
    },
    {
     "name": "stderr",
     "output_type": "stream",
     "text": [
      "[Parallel(n_jobs=1)]: Using backend SequentialBackend with 1 concurrent workers.\n"
     ]
    },
    {
     "name": "stdout",
     "output_type": "stream",
     "text": [
      "[CV] ................... n_estimators=1500, score=0.082, total=  57.7s\n",
      "[CV] n_estimators=1500 ...............................................\n",
      "[22:18:36] WARNING: C:/Users/Administrator/workspace/xgboost-win64_release_1.3.0/src/objective/regression_obj.cu:170: reg:linear is now deprecated in favor of reg:squarederror.\n"
     ]
    },
    {
     "name": "stderr",
     "output_type": "stream",
     "text": [
      "[Parallel(n_jobs=1)]: Done   1 out of   1 | elapsed:   57.6s remaining:    0.0s\n"
     ]
    },
    {
     "name": "stdout",
     "output_type": "stream",
     "text": [
      "[CV] ................... n_estimators=1500, score=0.079, total=  57.7s\n",
      "[CV] n_estimators=1500 ...............................................\n",
      "[22:19:34] WARNING: C:/Users/Administrator/workspace/xgboost-win64_release_1.3.0/src/objective/regression_obj.cu:170: reg:linear is now deprecated in favor of reg:squarederror.\n"
     ]
    },
    {
     "name": "stderr",
     "output_type": "stream",
     "text": [
      "[Parallel(n_jobs=1)]: Done   2 out of   2 | elapsed:  1.9min remaining:    0.0s\n"
     ]
    },
    {
     "name": "stdout",
     "output_type": "stream",
     "text": [
      "[CV] ................... n_estimators=1500, score=0.081, total= 1.1min\n",
      "[CV] n_estimators=1500 ...............................................\n",
      "[22:20:37] WARNING: C:/Users/Administrator/workspace/xgboost-win64_release_1.3.0/src/objective/regression_obj.cu:170: reg:linear is now deprecated in favor of reg:squarederror.\n"
     ]
    },
    {
     "name": "stderr",
     "output_type": "stream",
     "text": [
      "[Parallel(n_jobs=1)]: Done   3 out of   3 | elapsed:  3.0min remaining:    0.0s\n"
     ]
    },
    {
     "name": "stdout",
     "output_type": "stream",
     "text": [
      "[CV] ................... n_estimators=1500, score=0.079, total= 1.2min\n",
      "[CV] n_estimators=1500 ...............................................\n",
      "[22:21:48] WARNING: C:/Users/Administrator/workspace/xgboost-win64_release_1.3.0/src/objective/regression_obj.cu:170: reg:linear is now deprecated in favor of reg:squarederror.\n"
     ]
    },
    {
     "name": "stderr",
     "output_type": "stream",
     "text": [
      "[Parallel(n_jobs=1)]: Done   4 out of   4 | elapsed:  4.2min remaining:    0.0s\n"
     ]
    },
    {
     "name": "stdout",
     "output_type": "stream",
     "text": [
      "[CV] ................... n_estimators=1500, score=0.078, total= 1.2min\n",
      "[CV] n_estimators=1750 ...............................................\n",
      "[22:22:59] WARNING: C:/Users/Administrator/workspace/xgboost-win64_release_1.3.0/src/objective/regression_obj.cu:170: reg:linear is now deprecated in favor of reg:squarederror.\n"
     ]
    },
    {
     "name": "stderr",
     "output_type": "stream",
     "text": [
      "[Parallel(n_jobs=1)]: Done   5 out of   5 | elapsed:  5.3min remaining:    0.0s\n"
     ]
    },
    {
     "name": "stdout",
     "output_type": "stream",
     "text": [
      "[CV] ................... n_estimators=1750, score=0.082, total= 1.4min\n",
      "[CV] n_estimators=1750 ...............................................\n",
      "[22:24:21] WARNING: C:/Users/Administrator/workspace/xgboost-win64_release_1.3.0/src/objective/regression_obj.cu:170: reg:linear is now deprecated in favor of reg:squarederror.\n"
     ]
    },
    {
     "name": "stderr",
     "output_type": "stream",
     "text": [
      "[Parallel(n_jobs=1)]: Done   6 out of   6 | elapsed:  6.7min remaining:    0.0s\n"
     ]
    },
    {
     "name": "stdout",
     "output_type": "stream",
     "text": [
      "[CV] ................... n_estimators=1750, score=0.078, total= 1.4min\n",
      "[CV] n_estimators=1750 ...............................................\n",
      "[22:25:43] WARNING: C:/Users/Administrator/workspace/xgboost-win64_release_1.3.0/src/objective/regression_obj.cu:170: reg:linear is now deprecated in favor of reg:squarederror.\n"
     ]
    },
    {
     "name": "stderr",
     "output_type": "stream",
     "text": [
      "[Parallel(n_jobs=1)]: Done   7 out of   7 | elapsed:  8.1min remaining:    0.0s\n"
     ]
    },
    {
     "name": "stdout",
     "output_type": "stream",
     "text": [
      "[CV] ................... n_estimators=1750, score=0.080, total= 1.4min\n",
      "[CV] n_estimators=1750 ...............................................\n",
      "[22:27:06] WARNING: C:/Users/Administrator/workspace/xgboost-win64_release_1.3.0/src/objective/regression_obj.cu:170: reg:linear is now deprecated in favor of reg:squarederror.\n"
     ]
    },
    {
     "name": "stderr",
     "output_type": "stream",
     "text": [
      "[Parallel(n_jobs=1)]: Done   8 out of   8 | elapsed:  9.5min remaining:    0.0s\n"
     ]
    },
    {
     "name": "stdout",
     "output_type": "stream",
     "text": [
      "[CV] ................... n_estimators=1750, score=0.079, total= 1.4min\n",
      "[CV] n_estimators=1750 ...............................................\n",
      "[22:28:29] WARNING: C:/Users/Administrator/workspace/xgboost-win64_release_1.3.0/src/objective/regression_obj.cu:170: reg:linear is now deprecated in favor of reg:squarederror.\n"
     ]
    },
    {
     "name": "stderr",
     "output_type": "stream",
     "text": [
      "[Parallel(n_jobs=1)]: Done   9 out of   9 | elapsed: 10.8min remaining:    0.0s\n"
     ]
    },
    {
     "name": "stdout",
     "output_type": "stream",
     "text": [
      "[CV] ................... n_estimators=1750, score=0.078, total= 1.4min\n",
      "[CV] n_estimators=2000 ...............................................\n",
      "[22:29:53] WARNING: C:/Users/Administrator/workspace/xgboost-win64_release_1.3.0/src/objective/regression_obj.cu:170: reg:linear is now deprecated in favor of reg:squarederror.\n",
      "[CV] ................... n_estimators=2000, score=0.082, total= 1.6min\n",
      "[CV] n_estimators=2000 ...............................................\n",
      "[22:31:28] WARNING: C:/Users/Administrator/workspace/xgboost-win64_release_1.3.0/src/objective/regression_obj.cu:170: reg:linear is now deprecated in favor of reg:squarederror.\n",
      "[CV] ................... n_estimators=2000, score=0.078, total=39.7min\n",
      "[CV] n_estimators=2000 ...............................................\n",
      "[23:11:12] WARNING: C:/Users/Administrator/workspace/xgboost-win64_release_1.3.0/src/objective/regression_obj.cu:170: reg:linear is now deprecated in favor of reg:squarederror.\n",
      "[CV] ................... n_estimators=2000, score=0.080, total= 1.3min\n",
      "[CV] n_estimators=2000 ...............................................\n",
      "[23:12:30] WARNING: C:/Users/Administrator/workspace/xgboost-win64_release_1.3.0/src/objective/regression_obj.cu:170: reg:linear is now deprecated in favor of reg:squarederror.\n",
      "[CV] ................... n_estimators=2000, score=0.079, total= 1.3min\n",
      "[CV] n_estimators=2000 ...............................................\n",
      "[23:13:51] WARNING: C:/Users/Administrator/workspace/xgboost-win64_release_1.3.0/src/objective/regression_obj.cu:170: reg:linear is now deprecated in favor of reg:squarederror.\n",
      "[CV] ................... n_estimators=2000, score=0.077, total= 1.5min\n",
      "[CV] n_estimators=2250 ...............................................\n",
      "[23:15:22] WARNING: C:/Users/Administrator/workspace/xgboost-win64_release_1.3.0/src/objective/regression_obj.cu:170: reg:linear is now deprecated in favor of reg:squarederror.\n",
      "[CV] ................... n_estimators=2250, score=0.082, total= 1.8min\n",
      "[CV] n_estimators=2250 ...............................................\n",
      "[23:17:12] WARNING: C:/Users/Administrator/workspace/xgboost-win64_release_1.3.0/src/objective/regression_obj.cu:170: reg:linear is now deprecated in favor of reg:squarederror.\n",
      "[CV] ................... n_estimators=2250, score=0.077, total= 1.8min\n",
      "[CV] n_estimators=2250 ...............................................\n",
      "[23:18:59] WARNING: C:/Users/Administrator/workspace/xgboost-win64_release_1.3.0/src/objective/regression_obj.cu:170: reg:linear is now deprecated in favor of reg:squarederror.\n",
      "[CV] ................... n_estimators=2250, score=0.080, total= 1.8min\n",
      "[CV] n_estimators=2250 ...............................................\n",
      "[23:20:47] WARNING: C:/Users/Administrator/workspace/xgboost-win64_release_1.3.0/src/objective/regression_obj.cu:170: reg:linear is now deprecated in favor of reg:squarederror.\n",
      "[CV] ................... n_estimators=2250, score=0.078, total= 1.8min\n",
      "[CV] n_estimators=2250 ...............................................\n",
      "[23:22:34] WARNING: C:/Users/Administrator/workspace/xgboost-win64_release_1.3.0/src/objective/regression_obj.cu:170: reg:linear is now deprecated in favor of reg:squarederror.\n",
      "[CV] ................... n_estimators=2250, score=0.076, total= 1.8min\n",
      "[CV] n_estimators=2500 ...............................................\n",
      "[23:24:21] WARNING: C:/Users/Administrator/workspace/xgboost-win64_release_1.3.0/src/objective/regression_obj.cu:170: reg:linear is now deprecated in favor of reg:squarederror.\n",
      "[CV] ................... n_estimators=2500, score=0.081, total= 2.0min\n",
      "[CV] n_estimators=2500 ...............................................\n",
      "[23:26:19] WARNING: C:/Users/Administrator/workspace/xgboost-win64_release_1.3.0/src/objective/regression_obj.cu:170: reg:linear is now deprecated in favor of reg:squarederror.\n",
      "[CV] ................... n_estimators=2500, score=0.076, total= 2.0min\n",
      "[CV] n_estimators=2500 ...............................................\n",
      "[23:28:17] WARNING: C:/Users/Administrator/workspace/xgboost-win64_release_1.3.0/src/objective/regression_obj.cu:170: reg:linear is now deprecated in favor of reg:squarederror.\n",
      "[CV] ................... n_estimators=2500, score=0.079, total= 2.0min\n",
      "[CV] n_estimators=2500 ...............................................\n",
      "[23:30:15] WARNING: C:/Users/Administrator/workspace/xgboost-win64_release_1.3.0/src/objective/regression_obj.cu:170: reg:linear is now deprecated in favor of reg:squarederror.\n",
      "[CV] ................... n_estimators=2500, score=0.078, total= 2.0min\n",
      "[CV] n_estimators=2500 ...............................................\n",
      "[23:32:14] WARNING: C:/Users/Administrator/workspace/xgboost-win64_release_1.3.0/src/objective/regression_obj.cu:170: reg:linear is now deprecated in favor of reg:squarederror.\n",
      "[CV] ................... n_estimators=2500, score=0.076, total= 2.0min\n",
      "[23:34:15] WARNING: C:/Users/Administrator/workspace/xgboost-win64_release_1.3.0/src/objective/regression_obj.cu:170: reg:linear is now deprecated in favor of reg:squarederror.\n"
     ]
    },
    {
     "name": "stderr",
     "output_type": "stream",
     "text": [
      "[Parallel(n_jobs=1)]: Done  25 out of  25 | elapsed: 76.6min finished\n"
     ]
    },
    {
     "name": "stdout",
     "output_type": "stream",
     "text": [
      "Best: 0.07962752037706378, using {'n_estimators': 1500}\n",
      "0.07962752037706378 (0.0014496830139609008) with: {'n_estimators': 1500}\n",
      "0.07947700271021678 (0.001548786406117784) with: {'n_estimators': 1750}\n",
      "0.07925009798938269 (0.001811690512851543) with: {'n_estimators': 2000}\n",
      "0.0786310281126769 (0.0019914736571594286) with: {'n_estimators': 2250}\n",
      "0.07807193659155812 (0.0019890019657332193) with: {'n_estimators': 2500}\n",
      "Wall time: 1h 18min 6s\n"
     ]
    }
   ],
   "source": [
    "%%time\n",
    "\n",
    "# Define the parameters that you wish to use in your Grid Search along\n",
    "# with the list of values that you wish to try out\n",
    "#max_depth = [4, 5, 6, 7]\n",
    "#learning_rate = [0.13, 0.15, 0.17]\n",
    "n_estimators = [1500, 1750, 2000, 2250, 2500]\n",
    "\n",
    "seed = 42\n",
    "\n",
    "# Make a dictionary of the grid search parameters\n",
    "param_grid = dict(n_estimators=n_estimators)\n",
    "\n",
    "# Build and fit the GridSearchCV\n",
    "grid = GridSearchCV(estimator=xg_reg, param_grid=param_grid,\n",
    "                    cv=KFold(random_state=seed), verbose=10)\n",
    "\n",
    "grid_results = grid.fit(X_test, y_test)\n",
    "\n",
    "# Summarize the results in a readable format\n",
    "print(\"Best: {0}, using {1}\".format(grid_results.best_score_, grid_results.best_params_))\n",
    "\n",
    "means = grid_results.cv_results_['mean_test_score']\n",
    "stds = grid_results.cv_results_['std_test_score']\n",
    "params = grid_results.cv_results_['params']\n",
    "\n",
    "for mean, stdev, param in zip(means, stds, params):\n",
    "    print('{0} ({1}) with: {2}'.format(mean, stdev, param))"
   ]
  },
  {
   "cell_type": "code",
   "execution_count": 66,
   "metadata": {},
   "outputs": [
    {
     "data": {
      "text/plain": [
       "<AxesSubplot:title={'center':'Feature importance'}, xlabel='F score', ylabel='Features'>"
      ]
     },
     "execution_count": 66,
     "metadata": {},
     "output_type": "execute_result"
    },
    {
     "data": {
      "image/png": "[encoded data removed]",
      "text/plain": [
       "<Figure size 432x288 with 1 Axes>"
      ]
     },
     "metadata": {
      "needs_background": "light"
     },
     "output_type": "display_data"
    }
   ],
   "source": [
    "xgb.plot_importance(xg_reg)"
   ]
  },
  {
   "cell_type": "markdown",
   "metadata": {},
   "source": [
    "### LightGBM"
   ]
  },
  {
   "cell_type": "code",
   "execution_count": 14,
   "metadata": {},
   "outputs": [],
   "source": [
    "hyper_params = {\n",
    "    'task': 'train',\n",
    "    'boosting_type': 'gbdt',\n",
    "    'objective': 'regression',\n",
    "    'metric': ['l2', 'auc'],\n",
    "    'learning_rate': 0.005,\n",
    "    'feature_fraction': 0.9,\n",
    "    'bagging_fraction': 0.7,\n",
    "    'bagging_freq': 10,\n",
    "    'verbose': 0,\n",
    "    \"max_depth\": 4,\n",
    "    \"num_leaves\": 128,  \n",
    "    \"max_bin\": 512,\n",
    "    \"num_iterations\": 1000000,\n",
    "    \"n_estimators\": 5000\n",
    "}"
   ]
  },
  {
   "cell_type": "code",
   "execution_count": 222,
   "metadata": {},
   "outputs": [],
   "source": [
    "#lightgbm = lgb.LGBMRegressor(**hyper_params)\n",
    "lightgbm = lgb.LGBMRegressor(max_depth = 4, n_estimators = 25000, learning_rate = 0.005, num_leaves = 100)"
   ]
  },
  {
   "cell_type": "code",
   "execution_count": 223,
   "metadata": {},
   "outputs": [
    {
     "data": {
      "text/plain": [
       "LGBMRegressor(learning_rate=0.005, max_depth=4, n_estimators=25000,\n",
       "              num_leaves=100)"
      ]
     },
     "execution_count": 223,
     "metadata": {},
     "output_type": "execute_result"
    }
   ],
   "source": [
    "lightgbm.fit(X_train, y_train,\n",
    "        eval_set=[(X_test, y_test)],\n",
    "        eval_metric='l1',\n",
    "        early_stopping_rounds=1000, verbose = 0)"
   ]
  },
  {
   "cell_type": "code",
   "execution_count": 224,
   "metadata": {},
   "outputs": [
    {
     "name": "stdout",
     "output_type": "stream",
     "text": [
      "Training score: 0.66937\n",
      "Validation score: 0.701048\n"
     ]
    }
   ],
   "source": [
    "train_pred = lightgbm.predict(X_train)\n",
    "score1 = np.sqrt(mean_squared_error(y_train, train_pred))\n",
    "print(\"Training score:\", round(score1,6))\n",
    "\n",
    "predicted_labels = lightgbm.predict(X_test)\n",
    "score2 = np.sqrt(mean_squared_error(y_test, predicted_labels))\n",
    "print(\"Validation score:\", round(score2,6))"
   ]
  },
  {
   "cell_type": "code",
   "execution_count": 196,
   "metadata": {},
   "outputs": [],
   "source": [
    "# (max_depth = 4, n_estimators = 2000) Training score: 0.674941 Validation score: 0.701612\n",
    "# (max_depth = 2, n_estimators = 5000) Training score: 0.688713 Validation score: 0.702916\n",
    "# (max_depth = 4, n_estimators = 2000, min_data_in_leaf = 15) Training score: 0.658775 Validation score: 0.702155\n",
    "# (max_depth = 4, n_estimators = 2000, min_data_in_leaf = 10) Training score: 0.658282 Validation score: 0.702032\n",
    "# (max_depth = 5, n_estimators = 4000, min_data_in_leaf = 10) Training score: 0.661665 Validation score: 0.701407\n",
    "# (max_depth = 5, n_estimators = 2000, min_data_in_leaf = 10) Training score: 0.661665 Validation score: 0.701407\n",
    "# (max_depth = 5, n_estimators = 2000, min_data_in_leaf = 10, learning_rate = 0.05) Training score: 0.645604 Validation score: 0.701873\n",
    "# (max_depth = 5, n_estimators = 2000, min_data_in_leaf = 10, learning_rate = 0.15) Training score: 0.661923 Validation score: 0.701715\n",
    "# (max_depth = 5, n_estimators = 2000, min_data_in_leaf = 10, learning_rate = 0.15, boosting_type = 'dart') Training score: 0.65169 Validation score: 0.702586\n",
    "# (max_depth = 4, n_estimators = 2000, learning_rate = 0.05) Training score: 0.672641 Validation score: 0.701141\n",
    "# (max_depth = 3, n_estimators = 3000, learning_rate = 0.05) Training score: 0.683807 Validation score: 0.702061\n",
    "# (max_depth = 3, n_estimators = 4000, learning_rate = 0.05) Training score: 0.679393 Validation score: 0.701839\n",
    "# (max_depth = 3, n_estimators = 3000, learning_rate = 0.01) Training score: 0.700938 Validation score: 0.707383\n",
    "# (max_depth = 4, n_estimators = 3000, learning_rate = 0.01) Training score: 0.692911 Validation score: 0.704287\n",
    "# (max_depth = 4, n_estimators = 6000, learning_rate = 0.01) Training score: 0.683128 Validation score: 0.701970\n",
    "# (max_depth = 4, n_estimators = 2500, learning_rate = 0.03) Training score: 0.678743 Validation score: 0.701635\n",
    "# (max_depth = 4, n_estimators = 2000, learning_rate = 0.03) Training score: 0.682843 Validation score: 0.702106\n",
    "# (max_depth = 4, n_estimators = 2000, learning_rate = 0.05, bagging_fraction = 0.6) Training score: 0.672641 Validation score: 0.701141\n",
    "# (max_depth = 4, n_estimators = 2000, learning_rate = 0.05, sub_feature = 0.8) Training score: 0.673014 Validation score: 0.700983\n",
    "# (max_depth = 4, n_estimators = 2000, learning_rate = 0.04, sub_feature = 0.8) Training score: 0.677828 Validation score: 0.701408\n",
    "# (max_depth = 4, n_estimators = 2000, learning_rate = 0.05, sub_feature = 0.7) Training score: 0.673315 Validation score: 0.701193\n",
    "# (max_depth = 4, n_estimators = 2000, learning_rate = 0.05, sub_feature = 0.9) Training score: 0.672893 Validation score: 0.701249\n",
    "# (max_depth = 4, n_estimators = 2000, learning_rate = 0.05, sub_feature = 0.85) Training score: 0.673051 Validation score: 0.701147\n",
    "# (max_depth = 4, n_estimators = 2000, learning_rate = 0.05, sub_feature = 0.8, max_bin = 350) Training score: 0.672928 Validation score: 0.701111\n",
    "# (max_depth = 4, n_estimators = 2000, learning_rate = 0.05, sub_feature = 0.8, max_bin = 200)Training score: 0.673701 Validation score: 0.701398\n",
    "# (max_depth = 4, n_estimators = 5000, learning_rate = 0.01, sub_feature = 0.8) Training score: 0.686109 Validation score: 0.702405\n",
    "# (max_depth = 4, n_estimators = 4000, learning_rate = 0.04, sub_feature = 0.8) Training score: 0.671437 Validation score: 0.701091\n",
    "# (max_depth = 4, n_estimators = 10000, learning_rate = 0.03, sub_feature = 0.8) Training score: 0.669276 Validation score: 0.701109\n",
    "# (max_depth = 4, n_estimators = 10000, learning_rate = 0.03, sub_feature = 0.7) Training score: 0.668806 Validation score: 0.700881\n",
    "# (max_depth = 4, n_estimators = 10000, learning_rate = 0.03, sub_feature = 0.7, bagging_fraction = 0.7) Training score: 0.668806 Validation score: 0.700881\n",
    "# (max_depth = 4, n_estimators = 12000, learning_rate = 0.01, sub_feature = 0.7, bagging_fraction = 0.7) Training score: 0.669312 Validation score: 0.700868\n",
    "# (max_depth = 3, n_estimators = 12000, learning_rate = 0.01, sub_feature = 0.7, bagging_fraction = 0.7) Training score: 0.687229 Validation score: 0.702199\n",
    "# (max_depth = 3, n_estimators = 20000, learning_rate = 0.01, sub_feature = 0.75, bagging_fraction = 0.75) Training score: 0.681215 Validation score: 0.70166\n",
    "# (max_depth = 4, n_estimators = 25000, learning_rate = 0.02, sub_feature = 0.7, bagging_fraction = 0.7) Training score: 0.67009 Validation score: 0.700894\n",
    "## (max_depth = 4, n_estimators = 25000, learning_rate = 0.005, sub_feature = 0.7, bagging_fraction = 0.7) Training score: 0.67104 Validation score: 0.700765\n",
    "# (max_depth = 4, n_estimators = 25000, learning_rate = 0.005, sub_feature = 0.8, bagging_fraction = 0.8) Training score: 0.671406 Validation score: 0.700982\n",
    "# (max_depth = 3, n_estimators = 25000, learning_rate = 0.005, sub_feature = 0.8, bagging_fraction = 0.8) Training score: 0.686694 Validation score: 0.702124\n",
    "# (max_depth = 3, n_estimators = 50000, learning_rate = 0.005, sub_feature = 0.8, bagging_fraction = 0.8) Training score: 0.682211 Validation score: 0.701648\n",
    "# (max_depth = 4, n_estimators = 25000, learning_rate = 0.005, num_leaves = 100) Training score: 0.66937 Validation score: 0.701048"
   ]
  },
  {
   "cell_type": "code",
   "execution_count": 202,
   "metadata": {},
   "outputs": [],
   "source": [
    "#Predict test data \n",
    "pred_test = lightgbm.predict(test_df2)"
   ]
  },
  {
   "cell_type": "code",
   "execution_count": 203,
   "metadata": {},
   "outputs": [],
   "source": [
    "submission = test_df[['id']].copy()\n",
    "submission['target'] = pred_test\n",
    "\n",
    "submission.to_csv(\"submission.csv\", index=False)"
   ]
  },
  {
   "cell_type": "code",
   "execution_count": null,
   "metadata": {},
   "outputs": [],
   "source": []
  },
  {
   "cell_type": "code",
   "execution_count": null,
   "metadata": {},
   "outputs": [],
   "source": []
  },
  {
   "cell_type": "code",
   "execution_count": null,
   "metadata": {},
   "outputs": [],
   "source": []
  },
  {
   "cell_type": "code",
   "execution_count": null,
   "metadata": {},
   "outputs": [],
   "source": []
  }
 ],
 "metadata": {
  "kernelspec": {
   "display_name": "Python 3",
   "language": "python",
   "name": "python3"
  },
  "language_info": {
   "codemirror_mode": {
    "name": "ipython",
    "version": 3
   },
   "file_extension": ".py",
   "mimetype": "text/x-python",
   "name": "python",
   "nbconvert_exporter": "python",
   "pygments_lexer": "ipython3",
   "version": "3.7.9"
  }
 },
 "nbformat": 4,
 "nbformat_minor": 4
}
